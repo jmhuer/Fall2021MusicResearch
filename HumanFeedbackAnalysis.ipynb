{
  "nbformat": 4,
  "nbformat_minor": 0,
  "metadata": {
    "colab": {
      "name": "HumanFeedbackAnalysis.ipynb",
      "provenance": [],
      "authorship_tag": "ABX9TyNret6ycOHZ0Pyem9//U776",
      "include_colab_link": true
    },
    "kernelspec": {
      "name": "python3",
      "display_name": "Python 3"
    },
    "language_info": {
      "name": "python"
    }
  },
  "cells": [
    {
      "cell_type": "markdown",
      "metadata": {
        "id": "view-in-github",
        "colab_type": "text"
      },
      "source": [
        "<a href=\"https://colab.research.google.com/github/jmhuer/Fall2021MusicResearch/blob/main/HumanFeedbackAnalysis.ipynb\" target=\"_parent\"><img src=\"https://colab.research.google.com/assets/colab-badge.svg\" alt=\"Open In Colab\"/></a>"
      ]
    },
    {
      "cell_type": "code",
      "execution_count": 1,
      "metadata": {
        "id": "8JmLuTfFa2rn"
      },
      "outputs": [],
      "source": [
        "\n",
        "import re\n",
        "import subprocess\n",
        "\n",
        "\n",
        "def download_gdrive(id, print_stout=True):\n",
        "  coomand = 'gdown https://drive.google.com/uc?id={}'.format(id)\n",
        "  returned_value = subprocess.run(coomand, shell=True, stdout=subprocess.PIPE, stderr=subprocess.STDOUT)\n",
        "  if print_stout: print(returned_value.stdout.decode(\"utf-8\"))\n",
        "  else: print(\"Download Complete\")"
      ]
    },
    {
      "cell_type": "code",
      "source": [
        "download_gdrive(\"1TMo-SiXUvMDUSIKPRIhpD1zrp_6gOw44\", print_stout=True)"
      ],
      "metadata": {
        "colab": {
          "base_uri": "https://localhost:8080/"
        },
        "id": "_gE6tUwba_Vg",
        "outputId": "9ead7e0c-fde4-4e79-f548-e9016e3d8636"
      },
      "execution_count": 2,
      "outputs": [
        {
          "output_type": "stream",
          "name": "stdout",
          "text": [
            "Downloading...\n",
            "From: https://drive.google.com/uc?id=1TMo-SiXUvMDUSIKPRIhpD1zrp_6gOw44\n",
            "To: /content/responses.zip\n",
            "\r  0%|          | 0.00/480k [00:00<?, ?B/s]\r100%|██████████| 480k/480k [00:00<00:00, 51.9MB/s]\n",
            "\n"
          ]
        }
      ]
    },
    {
      "cell_type": "code",
      "source": [
        "!unzip responses.zip\n",
        "!pip install tika\n"
      ],
      "metadata": {
        "colab": {
          "base_uri": "https://localhost:8080/"
        },
        "id": "Sso8XYy_bq_3",
        "outputId": "01fd7c6b-7006-47b0-bcbd-567d73fdd3d8"
      },
      "execution_count": 3,
      "outputs": [
        {
          "output_type": "stream",
          "name": "stdout",
          "text": [
            "Archive:  responses.zip\n",
            "   creating: responses/\n",
            "  inflating: responses/website email-8.pdf  \n",
            "  inflating: __MACOSX/responses/._website email-8.pdf  \n",
            "  inflating: responses/website email-9.pdf  \n",
            "  inflating: __MACOSX/responses/._website email-9.pdf  \n",
            "  inflating: responses/website email-16.pdf  \n",
            "  inflating: __MACOSX/responses/._website email-16.pdf  \n",
            "  inflating: responses/website email-17.pdf  \n",
            "  inflating: __MACOSX/responses/._website email-17.pdf  \n",
            "  inflating: responses/website email-15.pdf  \n",
            "  inflating: __MACOSX/responses/._website email-15.pdf  \n",
            "  inflating: responses/website email-14.pdf  \n",
            "  inflating: __MACOSX/responses/._website email-14.pdf  \n",
            "  inflating: responses/website email-10.pdf  \n",
            "  inflating: __MACOSX/responses/._website email-10.pdf  \n",
            "  inflating: responses/website email-11.pdf  \n",
            "  inflating: __MACOSX/responses/._website email-11.pdf  \n",
            "  inflating: responses/website email-13.pdf  \n",
            "  inflating: __MACOSX/responses/._website email-13.pdf  \n",
            "  inflating: responses/website email-12.pdf  \n",
            "  inflating: __MACOSX/responses/._website email-12.pdf  \n",
            "  inflating: responses/website email-22.pdf  \n",
            "  inflating: __MACOSX/responses/._website email-22.pdf  \n",
            "  inflating: responses/website email-20.pdf  \n",
            "  inflating: __MACOSX/responses/._website email-20.pdf  \n",
            "  inflating: responses/website email-21.pdf  \n",
            "  inflating: __MACOSX/responses/._website email-21.pdf  \n",
            "  inflating: responses/website email-19.pdf  \n",
            "  inflating: __MACOSX/responses/._website email-19.pdf  \n",
            "  inflating: responses/website email-18.pdf  \n",
            "  inflating: __MACOSX/responses/._website email-18.pdf  \n",
            "  inflating: responses/website email-2.pdf  \n",
            "  inflating: __MACOSX/responses/._website email-2.pdf  \n",
            "  inflating: responses/website email-3.pdf  \n",
            "  inflating: __MACOSX/responses/._website email-3.pdf  \n",
            "  inflating: responses/website email-7.pdf  \n",
            "  inflating: __MACOSX/responses/._website email-7.pdf  \n",
            "  inflating: responses/website email-6.pdf  \n",
            "  inflating: __MACOSX/responses/._website email-6.pdf  \n",
            "  inflating: responses/website email-4.pdf  \n",
            "  inflating: __MACOSX/responses/._website email-4.pdf  \n",
            "  inflating: responses/website email.pdf  \n",
            "  inflating: __MACOSX/responses/._website email.pdf  \n",
            "  inflating: responses/website email-5.pdf  \n",
            "  inflating: __MACOSX/responses/._website email-5.pdf  \n",
            "Collecting tika\n",
            "  Downloading tika-1.24.tar.gz (28 kB)\n",
            "Requirement already satisfied: setuptools in /usr/local/lib/python3.7/dist-packages (from tika) (57.4.0)\n",
            "Requirement already satisfied: requests in /usr/local/lib/python3.7/dist-packages (from tika) (2.23.0)\n",
            "Requirement already satisfied: urllib3!=1.25.0,!=1.25.1,<1.26,>=1.21.1 in /usr/local/lib/python3.7/dist-packages (from requests->tika) (1.24.3)\n",
            "Requirement already satisfied: certifi>=2017.4.17 in /usr/local/lib/python3.7/dist-packages (from requests->tika) (2021.10.8)\n",
            "Requirement already satisfied: chardet<4,>=3.0.2 in /usr/local/lib/python3.7/dist-packages (from requests->tika) (3.0.4)\n",
            "Requirement already satisfied: idna<3,>=2.5 in /usr/local/lib/python3.7/dist-packages (from requests->tika) (2.10)\n",
            "Building wheels for collected packages: tika\n",
            "  Building wheel for tika (setup.py) ... \u001b[?25l\u001b[?25hdone\n",
            "  Created wheel for tika: filename=tika-1.24-py3-none-any.whl size=32893 sha256=2c492dbd7b467bcb37e284ea6036d3db7b6af84bea3b6afff6ccfbba5bd27eca\n",
            "  Stored in directory: /root/.cache/pip/wheels/ec/2b/38/58ff05467a742e32f67f5d0de048fa046e764e2fbb25ac93f3\n",
            "Successfully built tika\n",
            "Installing collected packages: tika\n",
            "Successfully installed tika-1.24\n"
          ]
        }
      ]
    },
    {
      "cell_type": "code",
      "source": [
        "#!/usr/bin/python3\n",
        "\n",
        "import os, glob\n",
        "from tika import parser \n",
        "from pandas import DataFrame\n",
        "import pandas as pd\n",
        "\n",
        "# What file extension to find, and where to look from\n",
        "ext = \"*.pdf\"\n",
        "PATH = \"responses\"\n",
        "\n",
        "# Find all the files with that extension\n",
        "files = []\n",
        "for dirpath, dirnames, filenames in os.walk(PATH):\n",
        "    files += glob.glob(os.path.join(dirpath, ext))\n",
        "\n",
        "# Create a Pandas Dataframe to hold the filenames and the text\n",
        "df = DataFrame(columns=(\"filename\",\"text\"))\n",
        "\n",
        "# Process each file in turn, parsing with Tika and storing in the dataframe\n",
        "for idx, filename in enumerate(files):\n",
        "   data = parser.from_file(filename)\n",
        "   text = data[\"content\"]\n",
        "   df.loc[idx] = [filename, text]\n",
        "\n",
        "# For debugging, print what we found\n",
        "# print(df.loc[0][1])\n",
        "# indx = df.loc[0][1]\n",
        "\n",
        "\n",
        "\n",
        "for index, row in df.iterrows():\n",
        "    indx = row[\"text\"].find(\"FROM\") + len(\"FROM\")\n",
        "    if indx - len(\"FROM\")!=-1:\n",
        "      group_number = row[\"text\"][indx:indx+1]\n",
        "      print(row[\"filename\"], group_number)\n",
        "    # if group_number==\" \":\n",
        "    #     print(row[\"text\"])\n"
      ],
      "metadata": {
        "colab": {
          "base_uri": "https://localhost:8080/"
        },
        "id": "M88ZySjcctMH",
        "outputId": "367f57a3-748f-4f3d-c45e-3d0428eff32e"
      },
      "execution_count": 4,
      "outputs": [
        {
          "output_type": "stream",
          "name": "stderr",
          "text": [
            "2022-04-01 11:23:04,484 [MainThread  ] [INFO ]  Retrieving http://search.maven.org/remotecontent?filepath=org/apache/tika/tika-server/1.24/tika-server-1.24.jar to /tmp/tika-server.jar.\n",
            "2022-04-01 11:23:05,132 [MainThread  ] [INFO ]  Retrieving http://search.maven.org/remotecontent?filepath=org/apache/tika/tika-server/1.24/tika-server-1.24.jar.md5 to /tmp/tika-server.jar.md5.\n",
            "2022-04-01 11:23:05,458 [MainThread  ] [WARNI]  Failed to see startup log message; retrying...\n",
            "2022-04-01 11:23:10,470 [MainThread  ] [WARNI]  Failed to see startup log message; retrying...\n"
          ]
        },
        {
          "output_type": "stream",
          "name": "stdout",
          "text": [
            "responses/website email-3.pdf 3\n",
            "responses/website email-10.pdf 1\n",
            "responses/website email-16.pdf 2\n",
            "responses/website email-20.pdf 1\n",
            "responses/website email-15.pdf 2\n",
            "responses/website email.pdf 2\n",
            "responses/website email-14.pdf 2\n",
            "responses/website email-4.pdf 2\n",
            "responses/website email-17.pdf 3\n",
            "responses/website email-5.pdf 2\n",
            "responses/website email-9.pdf 1\n",
            "responses/website email-21.pdf 3\n",
            "responses/website email-7.pdf 1\n",
            "responses/website email-2.pdf 3\n",
            "responses/website email-11.pdf 1\n",
            "responses/website email-22.pdf 2\n",
            "responses/website email-6.pdf 2\n",
            "responses/website email-13.pdf 3\n",
            "responses/website email-19.pdf 3\n",
            "responses/website email-12.pdf 1\n",
            "responses/website email-8.pdf 1\n",
            "responses/website email-18.pdf 2\n"
          ]
        }
      ]
    },
    {
      "cell_type": "code",
      "source": [
        "import re\n",
        "  \n",
        "# Function to extract all the numbers from the given string\n",
        "def getNumbers(str):\n",
        "    array = re.findall(r'[0-9]+', str)\n",
        "    return array\n",
        "import statistics\n",
        "\n",
        "class SurveyData:\n",
        "  def __init__(self, raw_dataframe):\n",
        "      self.group_map = {1:{\"Q1_1.0\": [1,2,3,4,5],\n",
        "          \"Q1_1.5\": [6,7,8,9,10],\n",
        "          \"Q1_0.5\": [11,12,13,14,15],\n",
        "          \"Q1_0.7\": [16,17,18,19,20],\n",
        "          \"Q1_1.9\": [21,22,23,24,25],\n",
        "          \"Q2_1.9\": [26, 27, 28, 29, 30],\n",
        "          \"Q2_1.5\": [31,32,33,34,35],\n",
        "          \"Q2_1.0\": [36, 37, 38 ,39, 40],\n",
        "          \"Q2_0.7\": [41,42,43,44,45],\n",
        "          \"Q2_0.5\": [46,47,48,49,50],\n",
        "          \"Q3_0.5\": [51],\n",
        "          \"Q3_1.0\": [52,53,56],\n",
        "          \"Q3_1.9\": [54],\n",
        "          \"Q3_1.5\": [55],\n",
        "          \"Q4_Vary\": [59,57],\n",
        "          \"Q4_Human\": [60,58]},\n",
        "          2:{\"Q1_1.0\": [1,2,3,4,5],\n",
        "          \"Q1_1.9\": [6,7,8,9,10],\n",
        "          \"Q1_0.5\": [11,12,13,14,15],\n",
        "          \"Q1_1.5\": [16,17,18,19,20],\n",
        "          \"Q1_0.7\": [21,22,23,24,25],\n",
        "          \"Q2_0.5\": [26, 27, 28, 29, 30],\n",
        "          \"Q2_0.7\": [31,32,33,34,35],\n",
        "          \"Q2_1.0\": [36, 37, 38 ,39, 40],\n",
        "          \"Q2_1.5\": [41,42,43,44,45],\n",
        "          \"Q2_1.9\": [46,47,48,49,50],\n",
        "          \"Q3_0.5\": [51],\n",
        "          \"Q3_1.0\": [56,53,52],\n",
        "          \"Q3_1.9\": [54],\n",
        "          \"Q3_1.5\": [55],\n",
        "          \"Q4_Vary\": [57,59],\n",
        "          \"Q4_Human\": [58,60]},\n",
        "          3:{\"Q1_0.7\": [1,2,3,4,5],\n",
        "          \"Q1_0.5\": [6,7,8,9,10],\n",
        "          \"Q1_1.9\": [11,12,13,14,15],\n",
        "          \"Q1_1.5\": [16,17,18,19,20],\n",
        "          \"Q1_1.0\": [21,22,23,24,25],\n",
        "          \"Q2_1.9\": [26, 27, 28, 29, 30],\n",
        "          \"Q2_0.7\": [31,32,33,34,35],\n",
        "          \"Q2_1.5\": [36, 37, 38 ,39, 40],\n",
        "          \"Q2_1.0\": [41,42,43,44,45],\n",
        "          \"Q2_0.5\": [46,47,48,49,50],\n",
        "          \"Q3_1.9\": [52],\n",
        "          \"Q3_1.5\": [53,55],\n",
        "          \"Q3_1.0\": [56,54,51],\n",
        "          \"Q4_Vary\": [59,57],\n",
        "          \"Q4_Human\": [60,58]}\n",
        "          }\n",
        "      self.raw_dataframe = raw_dataframe\n",
        "      self.d = {'Q1_0.5':[], 'Q1_0.7':[], 'Q1_1.0':[], 'Q1_1.5':[],'Q1_1.9':[], \n",
        "                'Q2_0.5':[], 'Q2_0.7':[], 'Q2_1.0':[], 'Q2_1.5':[],'Q2_1.9':[],\n",
        "                'Q3_0.5':[], 'Q3_0.7':[], 'Q3_1.0':[], 'Q3_1.5':[],'Q3_1.9':[],\n",
        "                'Q4_Human':[],'Q4_Vary':[]}\n",
        "      self.cleaned_data_dic = self.make_cleaned_data_dic()\n",
        "  def val2musicExample(self, val, group):\n",
        "      for Q in self.group_map[group]:\n",
        "          if val in self.group_map[group][Q]: \n",
        "              return Q\n",
        "  def number2score(self, number, seqIndx):\n",
        "      if seqIndx < 10: \n",
        "        score = int(number) - seqIndx*5 \n",
        "      else: \n",
        "        score = 1\n",
        "      return score\n",
        "  def make_cleaned_data_dic(self):\n",
        "      for index, row in self.raw_dataframe.iterrows():\n",
        "          indx = row[\"text\"].find(\"FROM\") + len(\"FROM\")\n",
        "          if indx - len(\"FROM\")!=-1:\n",
        "              group_number = int(row[\"text\"][indx:indx+1])\n",
        "          ##DO STUFF \n",
        "          vals = []\n",
        "          raw = getNumbers(row[\"text\"])[-15:]\n",
        "    \n",
        "          for seqIndx in range(len(raw)):\n",
        "            c = self.val2musicExample(int(raw[seqIndx]),1)\n",
        "            score = self.number2score(raw[seqIndx], seqIndx)\n",
        "            if score > 0: self.d[c].append(self.number2score(raw[seqIndx], seqIndx))\n",
        "\n",
        "          # ##add a 0 for every row not appended\n",
        "          # for Q in self.d.keys():\n",
        "          #   print(Q[0:2])\n",
        "          #   if Q[0:2]==\"Q3\" and Q[0:2]==\"Q4\" and len(self.d[Q])!=index+1: \n",
        "          #       self.d[Q].append(0)\n",
        "      print(self.d)\n",
        "      # df = pd.DataFrame(data=self.d)\n",
        "      return df\n",
        "  def print_summary(self):\n",
        "      for Q in self.d.keys():\n",
        "        if len(self.d[Q]) > 1: \n",
        "          print(Q + \" count: \" + str(len(self.d[Q])) +  \" \" + str(statistics.mean(self.d[Q])))"
      ],
      "metadata": {
        "id": "WBpWHCPrgaRY"
      },
      "execution_count": 89,
      "outputs": []
    },
    {
      "cell_type": "code",
      "source": [
        "s = SurveyData(df)\n",
        "s.print_summary()"
      ],
      "metadata": {
        "colab": {
          "base_uri": "https://localhost:8080/"
        },
        "id": "SA87wAeCb97p",
        "outputId": "46c875ef-4729-464a-fa37-7f93e423f998"
      },
      "execution_count": 90,
      "outputs": [
        {
          "output_type": "stream",
          "name": "stdout",
          "text": [
            "{'Q1_0.5': [5, 3, 1, 2, 2, 3, 1, 4, 3, 1, 3, 1, 3, 5, 4, 2, 5, 4, 3, 5, 2], 'Q1_0.7': [4, 2, 4, 3, 4, 3, 4, 3, 5, 1, 4, 2, 5, 5, 5, 4, 4, 4, 2, 4, 5], 'Q1_1.0': [2, 2, 3, 1, 5, 4, 5, 2, 2, 1, 5, 2, 4, 2, 1, 5, 3, 3, 4, 4, 2, 4], 'Q1_1.5': [1, 2, 1, 2, 3, 2, 3, 1, 2, 3, 1, 5, 1, 2, 5, 5, 1, 3, 3, 1, 1], 'Q1_1.9': [3, 3, 2, 4, 3, 3, 2, 4, 4, 4, 3, 4, 4, 3, 4, 1, 2, 3, 2, 4, 3], 'Q2_0.5': [1, 1, 5, 1, 5, 5, 4, 4, 2, 5, 1, 2, 1, 2, 1, 5, 4, 1, 2, 2, 1, 5], 'Q2_0.7': [3, 2, 4, 2, 5, 4, 5, 5, 3, 3, 1, 3, 2, 1, 3, 5, 5, 4, 3, 1, 2, 2], 'Q2_1.0': [4, 4, 3, 3, 4, 4, 3, 4, 2, 4, 4, 4, 1, 5, 2, 5, 4, 5, 4, 1, 3, 4], 'Q2_1.5': [2, 2, 2, 4, 3, 3, 2, 3, 1, 2, 3, 3, 3, 3, 5, 4, 3, 2, 1, 4, 4, 3], 'Q2_1.9': [5, 2, 1, 3, 3, 2, 1, 1, 4, 1, 3, 2, 4, 2, 4, 3, 1, 3, 2, 3, 5, 1], 'Q3_0.5': [1, 1, 1, 1, 1, 1, 1, 1], 'Q3_0.7': [], 'Q3_1.0': [1, 1, 1, 1, 1, 1, 1, 1, 1, 1, 1, 1, 1, 1, 1, 1, 1, 1, 1, 1, 1, 1, 1, 1, 1, 1, 1, 1, 1, 1, 1, 1, 1, 1, 1, 1, 1, 1, 1, 1, 1, 1, 1], 'Q3_1.5': [1, 1, 1, 1, 1, 1, 1, 1], 'Q3_1.9': [1, 1, 1, 1, 1, 1, 1], 'Q4_Human': [1, 1, 1, 1, 1, 1, 1, 1, 1, 1, 1, 1, 1, 1, 1, 1, 1, 1, 1, 1], 'Q4_Vary': [1, 1, 1, 1, 1, 1, 1, 1, 1, 1, 1, 1, 1, 1, 1, 1, 1, 1, 1, 1, 1, 1, 1, 1]}\n",
            "Q1_0.5 count: 21 2.9523809523809526\n",
            "Q1_0.7 count: 21 3.6666666666666665\n",
            "Q1_1.0 count: 22 3\n",
            "Q1_1.5 count: 21 2.2857142857142856\n",
            "Q1_1.9 count: 21 3.0952380952380953\n",
            "Q2_0.5 count: 22 2.727272727272727\n",
            "Q2_0.7 count: 22 3.090909090909091\n",
            "Q2_1.0 count: 22 3.5\n",
            "Q2_1.5 count: 22 2.8181818181818183\n",
            "Q2_1.9 count: 22 2.5454545454545454\n",
            "Q3_0.5 count: 8 1\n",
            "Q3_1.0 count: 43 1\n",
            "Q3_1.5 count: 8 1\n",
            "Q3_1.9 count: 7 1\n",
            "Q4_Human count: 20 1\n",
            "Q4_Vary count: 24 1\n"
          ]
        }
      ]
    },
    {
      "cell_type": "code",
      "source": [
        "\n"
      ],
      "metadata": {
        "id": "QpYYF4qX3a2o"
      },
      "execution_count": 73,
      "outputs": []
    }
  ]
}