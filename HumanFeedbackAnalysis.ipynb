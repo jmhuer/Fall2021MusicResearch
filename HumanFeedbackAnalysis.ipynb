{
  "nbformat": 4,
  "nbformat_minor": 0,
  "metadata": {
    "colab": {
      "name": "HumanFeedbackAnalysis.ipynb",
      "provenance": [],
      "authorship_tag": "ABX9TyNmpu4/G6DGXYGwlMXzvHFA",
      "include_colab_link": true
    },
    "kernelspec": {
      "name": "python3",
      "display_name": "Python 3"
    },
    "language_info": {
      "name": "python"
    }
  },
  "cells": [
    {
      "cell_type": "markdown",
      "metadata": {
        "id": "view-in-github",
        "colab_type": "text"
      },
      "source": [
        "<a href=\"https://colab.research.google.com/github/jmhuer/Fall2021MusicResearch/blob/main/HumanFeedbackAnalysis.ipynb\" target=\"_parent\"><img src=\"https://colab.research.google.com/assets/colab-badge.svg\" alt=\"Open In Colab\"/></a>"
      ]
    },
    {
      "cell_type": "code",
      "execution_count": 2,
      "metadata": {
        "id": "8JmLuTfFa2rn"
      },
      "outputs": [],
      "source": [
        "\n",
        "import re\n",
        "import subprocess\n",
        "\n",
        "\n",
        "def download_gdrive(id, print_stout=True):\n",
        "  coomand = 'gdown https://drive.google.com/uc?id={}'.format(id)\n",
        "  returned_value = subprocess.run(coomand, shell=True, stdout=subprocess.PIPE, stderr=subprocess.STDOUT)\n",
        "  if print_stout: print(returned_value.stdout.decode(\"utf-8\"))\n",
        "  else: print(\"Download Complete\")"
      ]
    },
    {
      "cell_type": "code",
      "source": [
        "download_gdrive(\"1UU9pmrtlpyElV9REbYxEHxiIdHKOmSRm\", print_stout=True)"
      ],
      "metadata": {
        "colab": {
          "base_uri": "https://localhost:8080/"
        },
        "id": "_gE6tUwba_Vg",
        "outputId": "ddcfee58-f337-42ed-800c-b6ec5ad43996"
      },
      "execution_count": 3,
      "outputs": [
        {
          "output_type": "stream",
          "name": "stdout",
          "text": [
            "Downloading...\n",
            "From: https://drive.google.com/uc?id=1UU9pmrtlpyElV9REbYxEHxiIdHKOmSRm\n",
            "To: /content/responses.zip\n",
            "\r  0%|          | 0.00/434k [00:00<?, ?B/s]\r100%|██████████| 434k/434k [00:00<00:00, 14.0MB/s]\n",
            "\n"
          ]
        }
      ]
    },
    {
      "cell_type": "code",
      "source": [
        "!unzip responses.zip"
      ],
      "metadata": {
        "colab": {
          "base_uri": "https://localhost:8080/"
        },
        "id": "Sso8XYy_bq_3",
        "outputId": "056df9c3-3e0c-4e76-aaea-47f99acd515e"
      },
      "execution_count": 4,
      "outputs": [
        {
          "output_type": "stream",
          "name": "stdout",
          "text": [
            "Archive:  responses.zip\n",
            "  inflating: website email.pdf       \n",
            "  inflating: __MACOSX/._website email.pdf  \n",
            "  inflating: website email-21.pdf    \n",
            "  inflating: __MACOSX/._website email-21.pdf  \n",
            "  inflating: website email-20.pdf    \n",
            "  inflating: __MACOSX/._website email-20.pdf  \n",
            "  inflating: website email-19.pdf    \n",
            "  inflating: __MACOSX/._website email-19.pdf  \n",
            "  inflating: website email-18.pdf    \n",
            "  inflating: __MACOSX/._website email-18.pdf  \n",
            "  inflating: website email-17.pdf    \n",
            "  inflating: __MACOSX/._website email-17.pdf  \n",
            "  inflating: website email-16.pdf    \n",
            "  inflating: __MACOSX/._website email-16.pdf  \n",
            "  inflating: website email-15.pdf    \n",
            "  inflating: __MACOSX/._website email-15.pdf  \n",
            "  inflating: website email-14.pdf    \n",
            "  inflating: __MACOSX/._website email-14.pdf  \n",
            "  inflating: website email-13.pdf    \n",
            "  inflating: __MACOSX/._website email-13.pdf  \n",
            "  inflating: website email-12.pdf    \n",
            "  inflating: __MACOSX/._website email-12.pdf  \n",
            "  inflating: website email-11.pdf    \n",
            "  inflating: __MACOSX/._website email-11.pdf  \n",
            "  inflating: website email-10.pdf    \n",
            "  inflating: __MACOSX/._website email-10.pdf  \n",
            "  inflating: website email-9.pdf     \n",
            "  inflating: __MACOSX/._website email-9.pdf  \n",
            "  inflating: website email-8.pdf     \n",
            "  inflating: __MACOSX/._website email-8.pdf  \n",
            "  inflating: website email-7.pdf     \n",
            "  inflating: __MACOSX/._website email-7.pdf  \n",
            "  inflating: website email-6.pdf     \n",
            "  inflating: __MACOSX/._website email-6.pdf  \n",
            "  inflating: website email-5.pdf     \n",
            "  inflating: __MACOSX/._website email-5.pdf  \n",
            "  inflating: website email-4.pdf     \n",
            "  inflating: __MACOSX/._website email-4.pdf  \n",
            "  inflating: website email-3.pdf     \n",
            "  inflating: __MACOSX/._website email-3.pdf  \n",
            "  inflating: website email-2.pdf     \n",
            "  inflating: __MACOSX/._website email-2.pdf  \n"
          ]
        }
      ]
    }
  ]
}