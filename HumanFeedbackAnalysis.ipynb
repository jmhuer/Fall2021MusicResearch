{
  "nbformat": 4,
  "nbformat_minor": 0,
  "metadata": {
    "colab": {
      "name": "HumanFeedbackAnalysis.ipynb",
      "provenance": [],
      "authorship_tag": "ABX9TyOEREGpIum+rGAma8swIfKh",
      "include_colab_link": true
    },
    "kernelspec": {
      "name": "python3",
      "display_name": "Python 3"
    },
    "language_info": {
      "name": "python"
    }
  },
  "cells": [
    {
      "cell_type": "markdown",
      "metadata": {
        "id": "view-in-github",
        "colab_type": "text"
      },
      "source": [
        "<a href=\"https://colab.research.google.com/github/jmhuer/Fall2021MusicResearch/blob/main/HumanFeedbackAnalysis.ipynb\" target=\"_parent\"><img src=\"https://colab.research.google.com/assets/colab-badge.svg\" alt=\"Open In Colab\"/></a>"
      ]
    },
    {
      "cell_type": "code",
      "execution_count": 2,
      "metadata": {
        "id": "8JmLuTfFa2rn"
      },
      "outputs": [],
      "source": [
        "\n",
        "import re\n",
        "import subprocess\n",
        "\n",
        "\n",
        "def download_gdrive(id, print_stout=True):\n",
        "  coomand = 'gdown https://drive.google.com/uc?id={}'.format(id)\n",
        "  returned_value = subprocess.run(coomand, shell=True, stdout=subprocess.PIPE, stderr=subprocess.STDOUT)\n",
        "  if print_stout: print(returned_value.stdout.decode(\"utf-8\"))\n",
        "  else: print(\"Download Complete\")"
      ]
    },
    {
      "cell_type": "code",
      "source": [
        "download_gdrive(\"1TMo-SiXUvMDUSIKPRIhpD1zrp_6gOw44\", print_stout=True)"
      ],
      "metadata": {
        "colab": {
          "base_uri": "https://localhost:8080/"
        },
        "id": "_gE6tUwba_Vg",
        "outputId": "4642ce10-c501-4e15-86c2-02d7adb9df6b"
      },
      "execution_count": 3,
      "outputs": [
        {
          "output_type": "stream",
          "name": "stdout",
          "text": [
            "Downloading...\n",
            "From: https://drive.google.com/uc?id=1TMo-SiXUvMDUSIKPRIhpD1zrp_6gOw44\n",
            "To: /content/responses.zip\n",
            "\r  0%|          | 0.00/656k [00:00<?, ?B/s]\r 80%|███████▉  | 524k/656k [00:00<00:00, 4.74MB/s]\r100%|██████████| 656k/656k [00:00<00:00, 5.59MB/s]\n",
            "\n"
          ]
        }
      ]
    },
    {
      "cell_type": "code",
      "source": [
        "!unzip responses.zip\n",
        "!pip install tika\n"
      ],
      "metadata": {
        "colab": {
          "base_uri": "https://localhost:8080/"
        },
        "id": "Sso8XYy_bq_3",
        "outputId": "f8dd0c85-51c6-413e-ace0-aaffb86cd693"
      },
      "execution_count": 4,
      "outputs": [
        {
          "output_type": "stream",
          "name": "stdout",
          "text": [
            "Archive:  responses.zip\n",
            "   creating: responses/\n",
            "  inflating: responses/website email-8.pdf  \n",
            "  inflating: __MACOSX/responses/._website email-8.pdf  \n",
            "  inflating: responses/website email-9.pdf  \n",
            "  inflating: __MACOSX/responses/._website email-9.pdf  \n",
            "  inflating: responses/website email-16.pdf  \n",
            "  inflating: __MACOSX/responses/._website email-16.pdf  \n",
            "  inflating: responses/website email-17.pdf  \n",
            "  inflating: __MACOSX/responses/._website email-17.pdf  \n",
            "  inflating: responses/website email-15.pdf  \n",
            "  inflating: __MACOSX/responses/._website email-15.pdf  \n",
            "  inflating: responses/website email-29.pdf  \n",
            "  inflating: __MACOSX/responses/._website email-29.pdf  \n",
            "  inflating: responses/website email-28.pdf  \n",
            "  inflating: __MACOSX/responses/._website email-28.pdf  \n",
            "  inflating: responses/website email-14.pdf  \n",
            "  inflating: __MACOSX/responses/._website email-14.pdf  \n",
            "  inflating: responses/website email-10.pdf  \n",
            "  inflating: __MACOSX/responses/._website email-10.pdf  \n",
            "  inflating: responses/website email-11.pdf  \n",
            "  inflating: __MACOSX/responses/._website email-11.pdf  \n",
            "  inflating: responses/website email-13.pdf  \n",
            "  inflating: __MACOSX/responses/._website email-13.pdf  \n",
            "  inflating: responses/website email-12.pdf  \n",
            "  inflating: __MACOSX/responses/._website email-12.pdf  \n",
            "  inflating: responses/website email-23.pdf  \n",
            "  inflating: __MACOSX/responses/._website email-23.pdf  \n",
            "  inflating: responses/website email-22.pdf  \n",
            "  inflating: __MACOSX/responses/._website email-22.pdf  \n",
            "  inflating: responses/website email-20.pdf  \n",
            "  inflating: __MACOSX/responses/._website email-20.pdf  \n",
            "  inflating: responses/website email-21.pdf  \n",
            "  inflating: __MACOSX/responses/._website email-21.pdf  \n",
            "  inflating: responses/website email-19.pdf  \n",
            "  inflating: __MACOSX/responses/._website email-19.pdf  \n",
            "  inflating: responses/website email-25.pdf  \n",
            "  inflating: __MACOSX/responses/._website email-25.pdf  \n",
            "  inflating: responses/website email-30.pdf  \n",
            "  inflating: __MACOSX/responses/._website email-30.pdf  \n",
            "  inflating: responses/website email-24.pdf  \n",
            "  inflating: __MACOSX/responses/._website email-24.pdf  \n",
            "  inflating: responses/website email-18.pdf  \n",
            "  inflating: __MACOSX/responses/._website email-18.pdf  \n",
            "  inflating: responses/website email-26.pdf  \n",
            "  inflating: __MACOSX/responses/._website email-26.pdf  \n",
            "  inflating: responses/website email-27.pdf  \n",
            "  inflating: __MACOSX/responses/._website email-27.pdf  \n",
            "  inflating: responses/website email-2.pdf  \n",
            "  inflating: __MACOSX/responses/._website email-2.pdf  \n",
            "  inflating: responses/website email-3.pdf  \n",
            "  inflating: __MACOSX/responses/._website email-3.pdf  \n",
            "  inflating: responses/website email-7.pdf  \n",
            "  inflating: __MACOSX/responses/._website email-7.pdf  \n",
            "  inflating: responses/website email-6.pdf  \n",
            "  inflating: __MACOSX/responses/._website email-6.pdf  \n",
            "  inflating: responses/website email-4.pdf  \n",
            "  inflating: __MACOSX/responses/._website email-4.pdf  \n",
            "  inflating: responses/website email.pdf  \n",
            "  inflating: __MACOSX/responses/._website email.pdf  \n",
            "  inflating: responses/website email-5.pdf  \n",
            "  inflating: __MACOSX/responses/._website email-5.pdf  \n",
            "Collecting tika\n",
            "  Downloading tika-1.24.tar.gz (28 kB)\n",
            "Requirement already satisfied: setuptools in /usr/local/lib/python3.7/dist-packages (from tika) (57.4.0)\n",
            "Requirement already satisfied: requests in /usr/local/lib/python3.7/dist-packages (from tika) (2.23.0)\n",
            "Requirement already satisfied: urllib3!=1.25.0,!=1.25.1,<1.26,>=1.21.1 in /usr/local/lib/python3.7/dist-packages (from requests->tika) (1.24.3)\n",
            "Requirement already satisfied: idna<3,>=2.5 in /usr/local/lib/python3.7/dist-packages (from requests->tika) (2.10)\n",
            "Requirement already satisfied: chardet<4,>=3.0.2 in /usr/local/lib/python3.7/dist-packages (from requests->tika) (3.0.4)\n",
            "Requirement already satisfied: certifi>=2017.4.17 in /usr/local/lib/python3.7/dist-packages (from requests->tika) (2021.10.8)\n",
            "Building wheels for collected packages: tika\n",
            "  Building wheel for tika (setup.py) ... \u001b[?25l\u001b[?25hdone\n",
            "  Created wheel for tika: filename=tika-1.24-py3-none-any.whl size=32893 sha256=b356ebe8ed2c8dccdf4de43df377f824156c99a2f1304b10a91d1dae93113a10\n",
            "  Stored in directory: /root/.cache/pip/wheels/ec/2b/38/58ff05467a742e32f67f5d0de048fa046e764e2fbb25ac93f3\n",
            "Successfully built tika\n",
            "Installing collected packages: tika\n",
            "Successfully installed tika-1.24\n"
          ]
        }
      ]
    },
    {
      "cell_type": "code",
      "source": [
        "#!/usr/bin/python3\n",
        "\n",
        "import os, glob\n",
        "from tika import parser \n",
        "from pandas import DataFrame\n",
        "import pandas as pd\n",
        "\n",
        "# What file extension to find, and where to look from\n",
        "ext = \"*.pdf\"\n",
        "PATH = \"responses\"\n",
        "\n",
        "# Find all the files with that extension\n",
        "files = []\n",
        "for dirpath, dirnames, filenames in os.walk(PATH):\n",
        "    files += glob.glob(os.path.join(dirpath, ext))\n",
        "\n",
        "# Create a Pandas Dataframe to hold the filenames and the text\n",
        "df = DataFrame(columns=(\"filename\",\"text\"))\n",
        "\n",
        "# Process each file in turn, parsing with Tika and storing in the dataframe\n",
        "for idx, filename in enumerate(files):\n",
        "   data = parser.from_file(filename)\n",
        "   text = data[\"content\"]\n",
        "   df.loc[idx] = [filename, text]\n",
        "\n",
        "# For debugging, print what we found\n",
        "# print(df.loc[0][1])\n",
        "# indx = df.loc[0][1]\n",
        "\n",
        "\n",
        "\n",
        "for index, row in df.iterrows():\n",
        "    indx = row[\"text\"].find(\"FROM\") + len(\"FROM\")\n",
        "    if indx - len(\"FROM\")!=-1:\n",
        "      group_number = row[\"text\"][indx:indx+1]\n",
        "      print(row[\"filename\"], group_number)\n",
        "    # if group_number==\" \":\n",
        "    #     print(row[\"text\"])\n"
      ],
      "metadata": {
        "colab": {
          "base_uri": "https://localhost:8080/"
        },
        "id": "M88ZySjcctMH",
        "outputId": "33d24802-3c62-42b4-c32a-9024dc95530c"
      },
      "execution_count": 5,
      "outputs": [
        {
          "output_type": "stream",
          "name": "stderr",
          "text": [
            "2022-04-10 04:19:47,481 [MainThread  ] [INFO ]  Retrieving http://search.maven.org/remotecontent?filepath=org/apache/tika/tika-server/1.24/tika-server-1.24.jar to /tmp/tika-server.jar.\n",
            "2022-04-10 04:19:48,182 [MainThread  ] [INFO ]  Retrieving http://search.maven.org/remotecontent?filepath=org/apache/tika/tika-server/1.24/tika-server-1.24.jar.md5 to /tmp/tika-server.jar.md5.\n",
            "2022-04-10 04:19:48,579 [MainThread  ] [WARNI]  Failed to see startup log message; retrying...\n",
            "2022-04-10 04:19:53,588 [MainThread  ] [WARNI]  Failed to see startup log message; retrying...\n"
          ]
        },
        {
          "output_type": "stream",
          "name": "stdout",
          "text": [
            "responses/website email-27.pdf 2\n",
            "responses/website email-5.pdf 1\n",
            "responses/website email-11.pdf 2\n",
            "responses/website email-19.pdf 2\n",
            "responses/website email-7.pdf 1\n",
            "responses/website email-18.pdf 2\n",
            "responses/website email-24.pdf 3\n",
            "responses/website email-28.pdf 2\n",
            "responses/website email-16.pdf 1\n",
            "responses/website email-13.pdf 1\n",
            "responses/website email-4.pdf 2\n",
            "responses/website email-15.pdf 3\n",
            "responses/website email-6.pdf 2\n",
            "responses/website email-29.pdf 3\n",
            "responses/website email-2.pdf 1\n",
            "responses/website email-20.pdf 1\n",
            "responses/website email.pdf 2\n",
            "responses/website email-22.pdf 1\n",
            "responses/website email-26.pdf 1\n",
            "responses/website email-12.pdf 1\n",
            "responses/website email-25.pdf 1\n",
            "responses/website email-21.pdf 1\n",
            "responses/website email-9.pdf 2\n",
            "responses/website email-23.pdf 3\n",
            "responses/website email-8.pdf 1\n",
            "responses/website email-10.pdf 2\n",
            "responses/website email-14.pdf 1\n",
            "responses/website email-17.pdf 3\n",
            "responses/website email-3.pdf 1\n",
            "responses/website email-30.pdf 3\n"
          ]
        }
      ]
    },
    {
      "cell_type": "code",
      "source": [
        "import re\n",
        "  \n",
        "# Function to extract all the numbers from the given string\n",
        "def getNumbers(str):\n",
        "    array = re.findall(r'[0-9]+', str)\n",
        "    return array\n",
        "import statistics\n",
        "\n",
        "class SurveyData:\n",
        "  def __init__(self, raw_dataframe):\n",
        "      self.group_map = {1:{\"Q1_1.0\": [1,2,3,4,5],\n",
        "          \"Q1_1.5\": [6,7,8,9,10],\n",
        "          \"Q1_0.5\": [11,12,13,14,15],\n",
        "          \"Q1_0.7\": [16,17,18,19,20],\n",
        "          \"Q1_1.9\": [21,22,23,24,25],\n",
        "          \"Q2_1.9\": [26, 27, 28, 29, 30],\n",
        "          \"Q2_1.5\": [31,32,33,34,35],\n",
        "          \"Q2_1.0\": [36, 37, 38 ,39, 40],\n",
        "          \"Q2_0.7\": [41,42,43,44,45],\n",
        "          \"Q2_0.5\": [46,47,48,49,50],\n",
        "          \"Q3_0.5\": [51],\n",
        "          \"Q3_1.0\": [52,53,56],\n",
        "          \"Q3_1.9\": [54],\n",
        "          \"Q3_1.5\": [55],\n",
        "          \"Q4_Vary\": [59,57],\n",
        "          \"Q4_Human\": [60,58]},\n",
        "          2:{\"Q1_1.0\": [1,2,3,4,5],\n",
        "          \"Q1_1.9\": [6,7,8,9,10],\n",
        "          \"Q1_0.5\": [11,12,13,14,15],\n",
        "          \"Q1_1.5\": [16,17,18,19,20],\n",
        "          \"Q1_0.7\": [21,22,23,24,25],\n",
        "          \"Q2_0.5\": [26, 27, 28, 29, 30],\n",
        "          \"Q2_0.7\": [31,32,33,34,35],\n",
        "          \"Q2_1.0\": [36, 37, 38 ,39, 40],\n",
        "          \"Q2_1.5\": [41,42,43,44,45],\n",
        "          \"Q2_1.9\": [46,47,48,49,50],\n",
        "          \"Q3_0.5\": [51],\n",
        "          \"Q3_1.0\": [56,53,52],\n",
        "          \"Q3_1.9\": [54],\n",
        "          \"Q3_1.5\": [55],\n",
        "          \"Q4_Vary\": [57,59],\n",
        "          \"Q4_Human\": [58,60]},\n",
        "          3:{\"Q1_0.7\": [1,2,3,4,5],\n",
        "          \"Q1_0.5\": [6,7,8,9,10],\n",
        "          \"Q1_1.9\": [11,12,13,14,15],\n",
        "          \"Q1_1.5\": [16,17,18,19,20],\n",
        "          \"Q1_1.0\": [21,22,23,24,25],\n",
        "          \"Q2_1.9\": [26, 27, 28, 29, 30],\n",
        "          \"Q2_0.7\": [31,32,33,34,35],\n",
        "          \"Q2_1.5\": [36, 37, 38 ,39, 40],\n",
        "          \"Q2_1.0\": [41,42,43,44,45],\n",
        "          \"Q2_0.5\": [46,47,48,49,50],\n",
        "          \"Q3_1.9\": [52],\n",
        "          \"Q3_1.5\": [53,55],\n",
        "          \"Q3_1.0\": [56,54,51],\n",
        "          \"Q4_Vary\": [59,57],\n",
        "          \"Q4_Human\": [60,58]}\n",
        "          }\n",
        "      self.raw_dataframe = raw_dataframe\n",
        "      self.d = {'Q1_0.5':[], 'Q1_0.7':[], 'Q1_1.0':[], 'Q1_1.5':[],'Q1_1.9':[], \n",
        "                'Q2_0.5':[], 'Q2_0.7':[], 'Q2_1.0':[], 'Q2_1.5':[],'Q2_1.9':[],\n",
        "                'Q3_0.5':[], 'Q3_0.7':[], 'Q3_1.0':[], 'Q3_1.5':[],'Q3_1.9':[],\n",
        "                'Q4_Human':[],'Q4_Vary':[]}\n",
        "      self.cleaned_data_dic = self.make_cleaned_data_dic()\n",
        "  def val2musicExample(self, val, group):\n",
        "      for Q in self.group_map[group]:\n",
        "          if val in self.group_map[group][Q]: \n",
        "              return Q\n",
        "  def number2score(self, number, seqIndx):\n",
        "      if seqIndx < 10: \n",
        "        score = int(number) - seqIndx*5 \n",
        "      else: \n",
        "        score = 1\n",
        "      return score\n",
        "  def make_cleaned_data_dic(self):\n",
        "      cnt1 = 0\n",
        "      cnt2 = 0\n",
        "      for index, row in self.raw_dataframe.iterrows():\n",
        "          indx = row[\"text\"].find(\"FROM\") + len(\"FROM\")\n",
        "          if indx - len(\"FROM\")!=-1:\n",
        "              group_number = int(row[\"text\"][indx:indx+1])\n",
        "          ##DO STUFF \n",
        "          vals = []\n",
        "          raw = getNumbers(row[\"text\"])[-15:]\n",
        "\n",
        "          # i = row[\"t4ext\"].rfind(\":\") + 2\n",
        "          # i2 = row[\"text\"].rfind(\":\") + 6\n",
        "          # print(row[\"text\"][i:i2])\n",
        "          # if row[\"text\"][i:i2]==\"Mara\":\n",
        "      \n",
        "          for seqIndx in range(len(raw)):\n",
        "            c = self.val2musicExample(int(raw[seqIndx]),group_number)\n",
        "            score = self.number2score(raw[seqIndx], seqIndx)\n",
        "             #VARYCHARM multi\n",
        "            if (group_number==1 and (int(raw[seqIndx])==57 or int(raw[seqIndx])==59)) or \\\n",
        "                (group_number==2 and (int(raw[seqIndx])==57 or int(raw[seqIndx])==59)) or \\\n",
        "                group_number==3 and (int(raw[seqIndx])==57 or int(raw[seqIndx])==59): \n",
        "              cnt1 += 1\n",
        "            elif (group_number==1 and (int(raw[seqIndx])==58 or int(raw[seqIndx])==60)) or \\\n",
        "                  (group_number==2 and (int(raw[seqIndx])==58 or int(raw[seqIndx])==60)) or\\\n",
        "                  group_number==3 and (int(raw[seqIndx])==58 or int(raw[seqIndx])==60): \n",
        "              cnt2 += 1\n",
        "            # if group_number==3 and (int(raw[seqIndx])==55): \n",
        "            #   cnt1 += 1\n",
        "            # elif group_number==3 and (int(raw[seqIndx])==56):\n",
        "            #   cnt2 += 1\n",
        "\n",
        "\n",
        "            if score > 0: self.d[c].append(self.number2score(raw[seqIndx], seqIndx))\n",
        "          # ##add a 0 for every row not appended\n",
        "          # for Q in self.d.keys():\n",
        "          #   print(Q[0:2])\n",
        "          #   if Q[0:2]==\"Q3\" and Q[0:2]==\"Q4\" and len(self.d[Q])!=index+1: \n",
        "          #       self.d[Q].append(0)\n",
        "      print(cnt1)\n",
        "      print(cnt2)\n",
        "      # df = pd.DataFrame(data=self.d)\n",
        "      return self.d\n",
        "  def print_summary(self):\n",
        "      for Q in self.d.keys():\n",
        "        if len(self.d[Q]) > 1: \n",
        "          print(Q + \" count: \" + str(len(self.d[Q])) +  \" \" + str(statistics.mean(self.d[Q])))"
      ],
      "metadata": {
        "id": "WBpWHCPrgaRY"
      },
      "execution_count": 21,
      "outputs": []
    },
    {
      "cell_type": "code",
      "source": [
        "s = SurveyData(df)\n",
        "s.print_summary()"
      ],
      "metadata": {
        "colab": {
          "base_uri": "https://localhost:8080/"
        },
        "id": "SA87wAeCb97p",
        "outputId": "5b3fb47d-dae3-466b-f56e-cfd455d88d6d"
      },
      "execution_count": 22,
      "outputs": [
        {
          "output_type": "stream",
          "name": "stdout",
          "text": [
            "34\n",
            "26\n",
            "Q1_0.5 count: 27 2.1481481481481484\n",
            "Q1_0.7 count: 27 2.740740740740741\n",
            "Q1_1.0 count: 30 3.1\n",
            "Q1_1.5 count: 27 3.6296296296296298\n",
            "Q1_1.9 count: 27 3.4074074074074074\n",
            "Q2_0.5 count: 30 1.6333333333333333\n",
            "Q2_0.7 count: 28 2.5357142857142856\n",
            "Q2_1.0 count: 28 3.25\n",
            "Q2_1.5 count: 28 3.9285714285714284\n",
            "Q2_1.9 count: 28 3.857142857142857\n",
            "Q3_0.5 count: 5 1\n",
            "Q3_1.0 count: 65 1\n",
            "Q3_1.5 count: 13 1\n",
            "Q3_1.9 count: 5 1\n",
            "Q4_Human count: 26 1\n",
            "Q4_Vary count: 34 1\n"
          ]
        }
      ]
    },
    {
      "cell_type": "code",
      "source": [
        "\n"
      ],
      "metadata": {
        "id": "QpYYF4qX3a2o"
      },
      "execution_count": null,
      "outputs": []
    }
  ]
}