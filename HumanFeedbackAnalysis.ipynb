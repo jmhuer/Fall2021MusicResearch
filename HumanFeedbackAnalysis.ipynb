{
  "nbformat": 4,
  "nbformat_minor": 0,
  "metadata": {
    "colab": {
      "name": "HumanFeedbackAnalysis.ipynb",
      "provenance": [],
      "authorship_tag": "ABX9TyNXwMefnd562ScAVYMFduW2",
      "include_colab_link": true
    },
    "kernelspec": {
      "name": "python3",
      "display_name": "Python 3"
    },
    "language_info": {
      "name": "python"
    }
  },
  "cells": [
    {
      "cell_type": "markdown",
      "metadata": {
        "id": "view-in-github",
        "colab_type": "text"
      },
      "source": [
        "<a href=\"https://colab.research.google.com/github/jmhuer/Fall2021MusicResearch/blob/main/HumanFeedbackAnalysis.ipynb\" target=\"_parent\"><img src=\"https://colab.research.google.com/assets/colab-badge.svg\" alt=\"Open In Colab\"/></a>"
      ]
    },
    {
      "cell_type": "code",
      "execution_count": 2,
      "metadata": {
        "id": "8JmLuTfFa2rn"
      },
      "outputs": [],
      "source": [
        "\n",
        "import re\n",
        "import subprocess\n",
        "\n",
        "\n",
        "def download_gdrive(id, print_stout=True):\n",
        "  coomand = 'gdown https://drive.google.com/uc?id={}'.format(id)\n",
        "  returned_value = subprocess.run(coomand, shell=True, stdout=subprocess.PIPE, stderr=subprocess.STDOUT)\n",
        "  if print_stout: print(returned_value.stdout.decode(\"utf-8\"))\n",
        "  else: print(\"Download Complete\")"
      ]
    },
    {
      "cell_type": "code",
      "source": [
        "download_gdrive(\"1UU9pmrtlpyElV9REbYxEHxiIdHKOmSRm\", print_stout=True)"
      ],
      "metadata": {
        "colab": {
          "base_uri": "https://localhost:8080/"
        },
        "id": "_gE6tUwba_Vg",
        "outputId": "ddcfee58-f337-42ed-800c-b6ec5ad43996"
      },
      "execution_count": 3,
      "outputs": [
        {
          "output_type": "stream",
          "name": "stdout",
          "text": [
            "Downloading...\n",
            "From: https://drive.google.com/uc?id=1UU9pmrtlpyElV9REbYxEHxiIdHKOmSRm\n",
            "To: /content/responses.zip\n",
            "\r  0%|          | 0.00/434k [00:00<?, ?B/s]\r100%|██████████| 434k/434k [00:00<00:00, 14.0MB/s]\n",
            "\n"
          ]
        }
      ]
    },
    {
      "cell_type": "code",
      "source": [
        "# !unzip responses.zip\n",
        "!pip install tika\n"
      ],
      "metadata": {
        "colab": {
          "base_uri": "https://localhost:8080/"
        },
        "id": "Sso8XYy_bq_3",
        "outputId": "161a3113-a28e-4c9d-abeb-4c9ca0617084"
      },
      "execution_count": 6,
      "outputs": [
        {
          "output_type": "stream",
          "name": "stdout",
          "text": [
            "Collecting tika\n",
            "  Downloading tika-1.24.tar.gz (28 kB)\n",
            "Requirement already satisfied: setuptools in /usr/local/lib/python3.7/dist-packages (from tika) (57.4.0)\n",
            "Requirement already satisfied: requests in /usr/local/lib/python3.7/dist-packages (from tika) (2.23.0)\n",
            "Requirement already satisfied: urllib3!=1.25.0,!=1.25.1,<1.26,>=1.21.1 in /usr/local/lib/python3.7/dist-packages (from requests->tika) (1.24.3)\n",
            "Requirement already satisfied: certifi>=2017.4.17 in /usr/local/lib/python3.7/dist-packages (from requests->tika) (2021.10.8)\n",
            "Requirement already satisfied: idna<3,>=2.5 in /usr/local/lib/python3.7/dist-packages (from requests->tika) (2.10)\n",
            "Requirement already satisfied: chardet<4,>=3.0.2 in /usr/local/lib/python3.7/dist-packages (from requests->tika) (3.0.4)\n",
            "Building wheels for collected packages: tika\n",
            "  Building wheel for tika (setup.py) ... \u001b[?25l\u001b[?25hdone\n",
            "  Created wheel for tika: filename=tika-1.24-py3-none-any.whl size=32893 sha256=59a80880a794e5cd20691447b0720786fa1a8df2f2da2ede949bf85899e5eb62\n",
            "  Stored in directory: /root/.cache/pip/wheels/ec/2b/38/58ff05467a742e32f67f5d0de048fa046e764e2fbb25ac93f3\n",
            "Successfully built tika\n",
            "Installing collected packages: tika\n",
            "Successfully installed tika-1.24\n"
          ]
        }
      ]
    },
    {
      "cell_type": "code",
      "source": [
        "#!/usr/bin/python3\n",
        "\n",
        "import os, glob\n",
        "from tika import parser \n",
        "from pandas import DataFrame\n",
        "\n",
        "# What file extension to find, and where to look from\n",
        "ext = \"*.pdf\"\n",
        "PATH = \"responses\"\n",
        "\n",
        "# Find all the files with that extension\n",
        "files = []\n",
        "for dirpath, dirnames, filenames in os.walk(PATH):\n",
        "    files += glob.glob(os.path.join(dirpath, ext))\n",
        "\n",
        "# Create a Pandas Dataframe to hold the filenames and the text\n",
        "df = DataFrame(columns=(\"filename\",\"text\"))\n",
        "\n",
        "# Process each file in turn, parsing with Tika and storing in the dataframe\n",
        "for idx, filename in enumerate(files):\n",
        "   data = parser.from_file(filename)\n",
        "   text = data[\"content\"]\n",
        "   df.loc[idx] = [filename, text]\n",
        "\n",
        "# For debugging, print what we found\n",
        "print(df.loc[0][1])"
      ],
      "metadata": {
        "colab": {
          "base_uri": "https://localhost:8080/"
        },
        "id": "M88ZySjcctMH",
        "outputId": "cdb08be2-ae2e-47a6-87a0-0030ca614bc2"
      },
      "execution_count": 11,
      "outputs": [
        {
          "output_type": "stream",
          "name": "stdout",
          "text": [
            "\n",
            "\n",
            "\n",
            "\n",
            "\n",
            "\n",
            "\n",
            "\n",
            "\n",
            "\n",
            "\n",
            "\n",
            "\n",
            "\n",
            "\n",
            "\n",
            "\n",
            "\n",
            "\n",
            "\n",
            "\n",
            "\n",
            "\n",
            "\n",
            "\n",
            "\n",
            "\n",
            "\n",
            "\n",
            "\n",
            "\n",
            "\n",
            "\n",
            "\n",
            "\n",
            "\n",
            "\n",
            "\n",
            "\n",
            "website email\n",
            "\n",
            "\n",
            "From: noreply@formtoemail.com\n",
            "Subject: website email\n",
            "Date: March 28, 2022 at 4:11 PM\n",
            "To: jmhuer@gmail.com\n",
            "\n",
            "100, FROM3:HIST: Rachel\n",
            "\n",
            "background: Had piano lessons as a kid, stopped after reaching grade 3. Have since lost most of my music skills.\n",
            "\n",
            "2, 6, 13, 19, 23, 27, 33, 39, 43, 47, 51, 54, 56, 57, 59\n",
            "\n",
            "\n",
            "\n"
          ]
        }
      ]
    }
  ]
}