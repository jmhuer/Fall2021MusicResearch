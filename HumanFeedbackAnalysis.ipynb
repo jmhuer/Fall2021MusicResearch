{
  "nbformat": 4,
  "nbformat_minor": 0,
  "metadata": {
    "colab": {
      "name": "HumanFeedbackAnalysis.ipynb",
      "provenance": [],
      "authorship_tag": "ABX9TyOqiHu7Qmkp5JgGWPfcL+uW",
      "include_colab_link": true
    },
    "kernelspec": {
      "name": "python3",
      "display_name": "Python 3"
    },
    "language_info": {
      "name": "python"
    }
  },
  "cells": [
    {
      "cell_type": "markdown",
      "metadata": {
        "id": "view-in-github",
        "colab_type": "text"
      },
      "source": [
        "<a href=\"https://colab.research.google.com/github/jmhuer/Fall2021MusicResearch/blob/main/HumanFeedbackAnalysis.ipynb\" target=\"_parent\"><img src=\"https://colab.research.google.com/assets/colab-badge.svg\" alt=\"Open In Colab\"/></a>"
      ]
    },
    {
      "cell_type": "code",
      "execution_count": 2,
      "metadata": {
        "id": "8JmLuTfFa2rn"
      },
      "outputs": [],
      "source": [
        "\n",
        "import re\n",
        "import subprocess\n",
        "\n",
        "\n",
        "def download_gdrive(id, print_stout=True):\n",
        "  coomand = 'gdown https://drive.google.com/uc?id={}'.format(id)\n",
        "  returned_value = subprocess.run(coomand, shell=True, stdout=subprocess.PIPE, stderr=subprocess.STDOUT)\n",
        "  if print_stout: print(returned_value.stdout.decode(\"utf-8\"))\n",
        "  else: print(\"Download Complete\")"
      ]
    },
    {
      "cell_type": "code",
      "source": [
        "download_gdrive(\"1UU9pmrtlpyElV9REbYxEHxiIdHKOmSRm\", print_stout=True)"
      ],
      "metadata": {
        "colab": {
          "base_uri": "https://localhost:8080/"
        },
        "id": "_gE6tUwba_Vg",
        "outputId": "ddcfee58-f337-42ed-800c-b6ec5ad43996"
      },
      "execution_count": 3,
      "outputs": [
        {
          "output_type": "stream",
          "name": "stdout",
          "text": [
            "Downloading...\n",
            "From: https://drive.google.com/uc?id=1UU9pmrtlpyElV9REbYxEHxiIdHKOmSRm\n",
            "To: /content/responses.zip\n",
            "\r  0%|          | 0.00/434k [00:00<?, ?B/s]\r100%|██████████| 434k/434k [00:00<00:00, 14.0MB/s]\n",
            "\n"
          ]
        }
      ]
    },
    {
      "cell_type": "code",
      "source": [
        "# !unzip responses.zip\n",
        "!pip install tika\n"
      ],
      "metadata": {
        "colab": {
          "base_uri": "https://localhost:8080/"
        },
        "id": "Sso8XYy_bq_3",
        "outputId": "161a3113-a28e-4c9d-abeb-4c9ca0617084"
      },
      "execution_count": 6,
      "outputs": [
        {
          "output_type": "stream",
          "name": "stdout",
          "text": [
            "Collecting tika\n",
            "  Downloading tika-1.24.tar.gz (28 kB)\n",
            "Requirement already satisfied: setuptools in /usr/local/lib/python3.7/dist-packages (from tika) (57.4.0)\n",
            "Requirement already satisfied: requests in /usr/local/lib/python3.7/dist-packages (from tika) (2.23.0)\n",
            "Requirement already satisfied: urllib3!=1.25.0,!=1.25.1,<1.26,>=1.21.1 in /usr/local/lib/python3.7/dist-packages (from requests->tika) (1.24.3)\n",
            "Requirement already satisfied: certifi>=2017.4.17 in /usr/local/lib/python3.7/dist-packages (from requests->tika) (2021.10.8)\n",
            "Requirement already satisfied: idna<3,>=2.5 in /usr/local/lib/python3.7/dist-packages (from requests->tika) (2.10)\n",
            "Requirement already satisfied: chardet<4,>=3.0.2 in /usr/local/lib/python3.7/dist-packages (from requests->tika) (3.0.4)\n",
            "Building wheels for collected packages: tika\n",
            "  Building wheel for tika (setup.py) ... \u001b[?25l\u001b[?25hdone\n",
            "  Created wheel for tika: filename=tika-1.24-py3-none-any.whl size=32893 sha256=59a80880a794e5cd20691447b0720786fa1a8df2f2da2ede949bf85899e5eb62\n",
            "  Stored in directory: /root/.cache/pip/wheels/ec/2b/38/58ff05467a742e32f67f5d0de048fa046e764e2fbb25ac93f3\n",
            "Successfully built tika\n",
            "Installing collected packages: tika\n",
            "Successfully installed tika-1.24\n"
          ]
        }
      ]
    },
    {
      "cell_type": "code",
      "source": [
        "#!/usr/bin/python3\n",
        "\n",
        "import os, glob\n",
        "from tika import parser \n",
        "from pandas import DataFrame\n",
        "\n",
        "# What file extension to find, and where to look from\n",
        "ext = \"*.pdf\"\n",
        "PATH = \"responses\"\n",
        "\n",
        "# Find all the files with that extension\n",
        "files = []\n",
        "for dirpath, dirnames, filenames in os.walk(PATH):\n",
        "    files += glob.glob(os.path.join(dirpath, ext))\n",
        "\n",
        "# Create a Pandas Dataframe to hold the filenames and the text\n",
        "df = DataFrame(columns=(\"filename\",\"text\"))\n",
        "\n",
        "# Process each file in turn, parsing with Tika and storing in the dataframe\n",
        "for idx, filename in enumerate(files):\n",
        "   data = parser.from_file(filename)\n",
        "   text = data[\"content\"]\n",
        "   df.loc[idx] = [filename, text]\n",
        "\n",
        "# For debugging, print what we found\n",
        "# print(df.loc[0][1])\n",
        "# indx = df.loc[0][1]\n",
        "\n",
        "\n",
        "\n",
        "for index, row in df.iterrows():\n",
        "    indx = row[\"text\"].find(\"FROM\") + len(\"FROM\")\n",
        "    if indx - len(\"FROM\")!=-1:\n",
        "      group_number = row[\"text\"][indx:indx+1]\n",
        "      print(row[\"filename\"], group_number)\n",
        "    # if group_number==\" \":\n",
        "    #     print(row[\"text\"])\n"
      ],
      "metadata": {
        "colab": {
          "base_uri": "https://localhost:8080/"
        },
        "id": "M88ZySjcctMH",
        "outputId": "68db4f3b-ec1c-437d-e189-631200df0e0d"
      },
      "execution_count": 34,
      "outputs": [
        {
          "output_type": "stream",
          "name": "stdout",
          "text": [
            "responses/website email-17.pdf 3\n",
            "responses/website email-16.pdf 2\n",
            "responses/website email-9.pdf 1\n",
            "responses/website email-7.pdf 1\n",
            "responses/website email-2.pdf 2\n",
            "responses/website email-8.pdf 1\n",
            "responses/website email-3.pdf 3\n",
            "responses/website email-15.pdf 2\n",
            "responses/website email-20.pdf 3\n",
            "responses/website email.pdf 3\n",
            "responses/website email-12.pdf 1\n",
            "responses/website email-4.pdf 1\n",
            "responses/website email-13.pdf 3\n",
            "responses/website email-19.pdf 2\n",
            "responses/website email-18.pdf 2\n",
            "responses/website email-11.pdf 2\n",
            "responses/website email-14.pdf 2\n",
            "responses/website email-21.pdf 1\n",
            "responses/website email-6.pdf 1\n",
            "responses/website email-5.pdf 2\n"
          ]
        }
      ]
    },
    {
      "cell_type": "code",
      "source": [
        ""
      ],
      "metadata": {
        "id": "NbzX-zhAimiM"
      },
      "execution_count": null,
      "outputs": []
    },
    {
      "cell_type": "code",
      "source": [
        "class SurveyData:\n",
        "  def __init__(self, raw_dataframe):\n",
        "      self.group_map = {1: [\"1.5\",\"1.0\",\"1.7\",\"0.5\",\"0.7\", \n",
        "                            \"1.5\",\"1.0\",\"1.7\",\"0.5\",\"0.7\", \n",
        "                            \"1.5\",\"2.5\", \n",
        "                            \"Human\",\"2.5\"],\n",
        "                        2: [\"1.5\",\"1.0\",\"1.7\",\"0.5\",\"0.7\", \n",
        "                            \"1.5\",\"1.0\",\"1.7\",\"0.5\",\"0.7\", \n",
        "                            \"1.5\",\"2.5\", \n",
        "                            \"1.5\",\"Human\"],\n",
        "                        3: [\"1.5\",\"1.0\",\"1.7\",\"0.5\",\"0.7\", \n",
        "                            \"1.5\",\"1.0\",\"1.7\",\"0.5\",\"0.7\", \n",
        "                            \"1.5\",\"2.5\", \n",
        "                            \"Human\",\"2.5\"]\n",
        "                        }\n",
        "\n",
        "      self.indx2Q_map =  {\"Q1_\": [i for i in range(1,6)],\n",
        "                          \"Q2_\": [i for i in range(6,11)],\n",
        "                          \"Q3_\": [i for i in range(11,16)],\n",
        "                          \"Q4_\": [i for i in range(16,21)]}\n",
        "      \n",
        "      self.d = {'Q1_0.5': [],  'Q1_0.7': [],'Q1_1.0': [], 'Q1_1.5': [],'Q1_1.7': [], \n",
        "                'Q2_0.5': [],  'Q2_0.7': [],'Q2_1.0': [], 'Q2_1.5': [],'Q2_1.7': [],\n",
        "                'Q3_0.5': [],  'Q3_0.7': [],'Q3_1.0': [], 'Q3_1.5': [],'Q3_1.7': [],\n",
        "                'Q4_Human': [],'Q4_1.5': []}\n",
        "      self.raw_dataframe = raw_dataframe\n",
        "      self.cleaned_data_dic = make_cleaned_data_dic()\n",
        "  def indx2Q(self, seqIndx):\n",
        "      for Q in self.number2Q_map.keys():\n",
        "          if val in self.number2Q_map(Q): \n",
        "              return Q\n",
        "  def indx2example(self, seqIndx, group):\n",
        "      for Q in self.group_map[group].keys():\n",
        "          return self.group_map[seqIndx]\n",
        "  def number2score(self, number, seqIndx):\n",
        "      if seqinx < 10: return number - seqIndx*5 \n",
        "      else return 1:\n",
        "  def make_cleaned_data_dic():\n",
        "      for index, row in self.raw_dataframe.iterrows():\n",
        "          indx = row[\"text\"].find(\"FROM\") + len(\"FROM\")\n",
        "          if indx - len(\"FROM\")!=-1:\n",
        "              group_number = row[\"text\"][indx:indx+1]\n",
        "          ##DO STUFF \n",
        "          vals = []\n",
        "          indx_start = row[\"text\"].find(\",\") - 1 ##first comma\n",
        "          indx_end = row[\"text\"].find(\",\") - 1 ##last comma\n",
        "          if indx - len(\"FROM\")!=-1:\n",
        "              vals = vals.append(int(row[\"text\"][indx:indx+1]))\n",
        "          \n",
        "          for i in range(sequence):\n",
        "              c = indx2Q(self, seqIndx) + indx2example(seqIndx, group)\n",
        "              self.d[c].append(number2score(number, seqIndx))\n",
        "          \n",
        "          ##add a 0 for every row not appended\n",
        "          for Q in self.d.keys():\n",
        "              if len(self.d[Q])!=index: \n",
        "                  self.d[Q].append(0)\n",
        "\n",
        "          df = pd.DataFrame(data=d)\n",
        "      return df"
      ],
      "metadata": {
        "id": "WBpWHCPrgaRY"
      },
      "execution_count": null,
      "outputs": []
    }
  ]
}