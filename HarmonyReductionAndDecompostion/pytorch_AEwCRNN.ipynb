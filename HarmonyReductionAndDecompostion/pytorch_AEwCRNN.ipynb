{
  "nbformat": 4,
  "nbformat_minor": 0,
  "metadata": {
    "colab": {
      "name": "Untitled20.ipynb",
      "provenance": [],
      "collapsed_sections": [],
      "machine_shape": "hm",
      "authorship_tag": "ABX9TyMjFdV67aV+VehqAph6A6Hm",
      "include_colab_link": true
    },
    "kernelspec": {
      "name": "python3",
      "display_name": "Python 3"
    },
    "language_info": {
      "name": "python"
    },
    "accelerator": "GPU"
  },
  "cells": [
    {
      "cell_type": "markdown",
      "metadata": {
        "id": "view-in-github",
        "colab_type": "text"
      },
      "source": [
        "<a href=\"https://colab.research.google.com/github/jmhuer/Fall2021MusicResearch/blob/main/HarmonyReductionAndDecompostion/pytorch_AEwCRNN.ipynb\" target=\"_parent\"><img src=\"https://colab.research.google.com/assets/colab-badge.svg\" alt=\"Open In Colab\"/></a>"
      ]
    },
    {
      "cell_type": "code",
      "metadata": {
        "colab": {
          "base_uri": "https://localhost:8080/"
        },
        "id": "f41o4JoQwpyj",
        "outputId": "806820df-921e-4ae5-b8b6-3687b7da663b"
      },
      "source": [
        "!git clone https://github.com/GitYCC/crnn-pytorch\n",
        "%cd crnn-pytorch/"
      ],
      "execution_count": 1,
      "outputs": [
        {
          "output_type": "stream",
          "name": "stdout",
          "text": [
            "Cloning into 'crnn-pytorch'...\n",
            "remote: Enumerating objects: 41, done.\u001b[K\n",
            "remote: Total 41 (delta 0), reused 0 (delta 0), pack-reused 41\u001b[K\n",
            "Unpacking objects: 100% (41/41), done.\n",
            "/content/crnn-pytorch\n"
          ]
        }
      ]
    },
    {
      "cell_type": "code",
      "metadata": {
        "colab": {
          "base_uri": "https://localhost:8080/",
          "height": 1000
        },
        "id": "ok2eutQew0fk",
        "outputId": "92db3905-e6ff-43b9-e1be-7680f5cd9552"
      },
      "source": [
        "!pip install -r /content/crnn-pytorch/requirements.txt"
      ],
      "execution_count": 5,
      "outputs": [
        {
          "output_type": "stream",
          "name": "stdout",
          "text": [
            "Requirement already satisfied: docopt==0.6.2 in /usr/local/lib/python3.7/dist-packages (from -r /content/crnn-pytorch/requirements.txt (line 7)) (0.6.2)\n",
            "Collecting numpy==1.17.2\n",
            "  Downloading numpy-1.17.2-cp37-cp37m-manylinux1_x86_64.whl (20.3 MB)\n",
            "\u001b[K     |████████████████████████████████| 20.3 MB 38.6 MB/s \n",
            "\u001b[?25hCollecting opencv-python==4.4.0.42\n",
            "  Downloading opencv_python-4.4.0.42-cp37-cp37m-manylinux2014_x86_64.whl (49.4 MB)\n",
            "\u001b[K     |████████████████████████████████| 49.4 MB 142 kB/s \n",
            "\u001b[?25hCollecting pillow==6.1.0\n",
            "  Downloading Pillow-6.1.0-cp37-cp37m-manylinux1_x86_64.whl (2.1 MB)\n",
            "\u001b[K     |████████████████████████████████| 2.1 MB 46.0 MB/s \n",
            "\u001b[?25hCollecting scipy==1.5.2\n",
            "  Downloading scipy-1.5.2-cp37-cp37m-manylinux1_x86_64.whl (25.9 MB)\n",
            "\u001b[K     |████████████████████████████████| 25.9 MB 9.2 kB/s \n",
            "\u001b[?25hCollecting six==1.12.0\n",
            "  Downloading six-1.12.0-py2.py3-none-any.whl (10 kB)\n",
            "Collecting torch==1.2.0\n",
            "  Downloading torch-1.2.0-cp37-cp37m-manylinux1_x86_64.whl (748.9 MB)\n",
            "\u001b[K     |████████████████████████████████| 748.9 MB 524 bytes/s \n",
            "\u001b[?25hCollecting tqdm==4.49.0\n",
            "  Downloading tqdm-4.49.0-py2.py3-none-any.whl (69 kB)\n",
            "\u001b[K     |████████████████████████████████| 69 kB 5.8 MB/s \n",
            "\u001b[?25hInstalling collected packages: numpy, tqdm, torch, six, scipy, pillow, opencv-python\n",
            "  Attempting uninstall: numpy\n",
            "    Found existing installation: numpy 1.19.5\n",
            "    Uninstalling numpy-1.19.5:\n",
            "      Successfully uninstalled numpy-1.19.5\n",
            "  Attempting uninstall: tqdm\n",
            "    Found existing installation: tqdm 4.62.3\n",
            "    Uninstalling tqdm-4.62.3:\n",
            "      Successfully uninstalled tqdm-4.62.3\n",
            "  Attempting uninstall: torch\n",
            "    Found existing installation: torch 1.9.0+cu111\n",
            "    Uninstalling torch-1.9.0+cu111:\n",
            "      Successfully uninstalled torch-1.9.0+cu111\n",
            "  Attempting uninstall: six\n",
            "    Found existing installation: six 1.15.0\n",
            "    Uninstalling six-1.15.0:\n",
            "      Successfully uninstalled six-1.15.0\n",
            "  Attempting uninstall: scipy\n",
            "    Found existing installation: scipy 1.4.1\n",
            "    Uninstalling scipy-1.4.1:\n",
            "      Successfully uninstalled scipy-1.4.1\n",
            "  Attempting uninstall: pillow\n",
            "    Found existing installation: Pillow 7.1.2\n",
            "    Uninstalling Pillow-7.1.2:\n",
            "      Successfully uninstalled Pillow-7.1.2\n",
            "  Attempting uninstall: opencv-python\n",
            "    Found existing installation: opencv-python 4.1.2.30\n",
            "    Uninstalling opencv-python-4.1.2.30:\n",
            "      Successfully uninstalled opencv-python-4.1.2.30\n",
            "\u001b[31mERROR: pip's dependency resolver does not currently take into account all the packages that are installed. This behaviour is the source of the following dependency conflicts.\n",
            "torchvision 0.10.0+cu111 requires torch==1.9.0, but you have torch 1.2.0 which is incompatible.\n",
            "torchtext 0.10.0 requires torch==1.9.0, but you have torch 1.2.0 which is incompatible.\n",
            "tensorflow 2.6.0 requires numpy~=1.19.2, but you have numpy 1.17.2 which is incompatible.\n",
            "tensorflow 2.6.0 requires six~=1.15.0, but you have six 1.12.0 which is incompatible.\n",
            "kapre 0.3.5 requires numpy>=1.18.5, but you have numpy 1.17.2 which is incompatible.\n",
            "jaxlib 0.1.71+cuda111 requires numpy>=1.18, but you have numpy 1.17.2 which is incompatible.\n",
            "jax 0.2.21 requires numpy>=1.18, but you have numpy 1.17.2 which is incompatible.\n",
            "google-colab 1.0.0 requires six~=1.15.0, but you have six 1.12.0 which is incompatible.\n",
            "google-api-python-client 1.12.8 requires six<2dev,>=1.13.0, but you have six 1.12.0 which is incompatible.\n",
            "google-api-core 1.26.3 requires six>=1.13.0, but you have six 1.12.0 which is incompatible.\n",
            "datascience 0.10.6 requires folium==0.2.1, but you have folium 0.8.3 which is incompatible.\n",
            "bokeh 2.3.3 requires pillow>=7.1.0, but you have pillow 6.1.0 which is incompatible.\n",
            "albumentations 0.1.12 requires imgaug<0.2.7,>=0.2.5, but you have imgaug 0.2.9 which is incompatible.\u001b[0m\n",
            "Successfully installed numpy-1.17.2 opencv-python-4.4.0.42 pillow-6.1.0 scipy-1.5.2 six-1.12.0 torch-1.2.0 tqdm-4.49.0\n"
          ]
        },
        {
          "output_type": "display_data",
          "data": {
            "application/vnd.colab-display-data+json": {
              "pip_warning": {
                "packages": [
                  "PIL",
                  "numpy",
                  "six"
                ]
              }
            }
          },
          "metadata": {}
        }
      ]
    },
    {
      "cell_type": "code",
      "metadata": {
        "id": "cOvHgygAw-_E"
      },
      "source": [
        "%load_ext autoreload\n",
        "%autoreload 2"
      ],
      "execution_count": 1,
      "outputs": []
    },
    {
      "cell_type": "code",
      "metadata": {
        "colab": {
          "base_uri": "https://localhost:8080/"
        },
        "id": "sQCj10D5xIH2",
        "outputId": "d50d134c-cd04-4002-ef70-1ef3d92078cc"
      },
      "source": [
        "# %cd /content/crnn-pytorch/data\n",
        "# !bash data/download_synth90k.sh\n",
        "%cd /content/crnn-pytorch/src"
      ],
      "execution_count": 3,
      "outputs": [
        {
          "output_type": "stream",
          "name": "stdout",
          "text": [
            "/content/crnn-pytorch/src\n"
          ]
        }
      ]
    },
    {
      "cell_type": "code",
      "metadata": {
        "colab": {
          "base_uri": "https://localhost:8080/"
        },
        "id": "GkI7xcPibqWw",
        "outputId": "4b504652-b414-4724-e212-0c2a0ce1b246"
      },
      "source": [
        "from model import CRNN\n",
        "from train import train_batch\n",
        "import torch\n",
        "from torch.utils.data import DataLoader\n",
        "import torch.optim as optim\n",
        "from torch.nn import CTCLoss\n",
        "\n",
        "device = torch.device('cuda' if torch.cuda.is_available() else 'cpu')\n",
        "\n",
        "print(device)\n",
        "\n",
        "crnn = CRNN(1, img_height=128, img_width=88, num_class=25,\n",
        "            map_to_seq_hidden=64,\n",
        "            rnn_hidden=256,\n",
        "            leaky_relu=False)\n",
        "\n",
        "# if reload_checkpoint:\n",
        "#     crnn.load_state_dict(torch.load(reload_checkpoint, map_location=device))\n",
        "\n",
        "crnn = crnn.to(device)\n",
        "image = torch.zeros((12,1,128,88)).to(device)\n",
        "fake_label = torch.ones((12, 128)).long().to(device)\n",
        "print(fake_label)\n",
        "fake_len = torch.ones((12)).long().to(device)\n",
        "print(fake_len)\n",
        "\n",
        "data_point = [image, fake_label, fake_len]\n",
        "train_data = data_point\n",
        "\n",
        "optimizer = optim.RMSprop(crnn.parameters(), lr=0.005)\n",
        "criterion = CTCLoss(reduction='sum')\n",
        "criterion.to(device)\n",
        "\n",
        "epochs = 1\n",
        "i = 1\n",
        "for epoch in range(1, epochs + 1):\n",
        "    print(f'epoch: {epoch}')\n",
        "    tot_train_loss = 0.\n",
        "    tot_train_count = 0\n",
        "    for i in range(epochs):\n",
        "        loss = train_batch(crnn, train_data, optimizer, criterion, device)\n",
        "        train_size = train_data[0].size(0) #batch\n",
        "        print(loss)\n",
        "        tot_train_loss += loss\n",
        "        tot_train_count += train_size\n",
        "\n",
        "        print('train_batch_loss[', i, ']: ', loss / train_size)\n",
        "\n",
        "        if False:\n",
        "            evaluation = evaluate(crnn, valid_loader, criterion,\n",
        "                                  decode_method=config['decode_method'],\n",
        "                                  beam_size=config['beam_size'])\n",
        "            print('valid_evaluation: loss={loss}, acc={acc}'.format(**evaluation))\n",
        "\n",
        "            if i % save_interval == 0:\n",
        "                prefix = 'crnn'\n",
        "                loss = evaluation['loss']\n",
        "                save_model_path = os.path.join(config['checkpoints_dir'],\n",
        "                                                f'{prefix}_{i:06}_loss{loss}.pt')\n",
        "                torch.save(crnn.state_dict(), save_model_path)\n",
        "                print('save model at ', save_model_path)\n",
        "\n",
        "        i += 1\n",
        "\n",
        "    print('train_loss: ', tot_train_loss / tot_train_count)\n",
        "\n"
      ],
      "execution_count": 14,
      "outputs": [
        {
          "output_type": "stream",
          "name": "stdout",
          "text": [
            "cuda\n",
            "tensor([[1, 1, 1,  ..., 1, 1, 1],\n",
            "        [1, 1, 1,  ..., 1, 1, 1],\n",
            "        [1, 1, 1,  ..., 1, 1, 1],\n",
            "        ...,\n",
            "        [1, 1, 1,  ..., 1, 1, 1],\n",
            "        [1, 1, 1,  ..., 1, 1, 1],\n",
            "        [1, 1, 1,  ..., 1, 1, 1]], device='cuda:0')\n",
            "tensor([1, 1, 1, 1, 1, 1, 1, 1, 1, 1, 1, 1], device='cuda:0')\n",
            "epoch: 1\n",
            "~~~~~~ torch.Size([12, 1, 128, 88])\n",
            "logits torch.Size([21, 12, 25])\n",
            "b 12\n",
            "i torch.Size([12])\n",
            "t torch.Size([12])\n",
            "740.8409423828125\n",
            "train_batch_loss[ 0 ]:  61.73674519856771\n",
            "train_loss:  61.73674519856771\n"
          ]
        }
      ]
    },
    {
      "cell_type": "code",
      "metadata": {
        "id": "jCyLzhee0IS9"
      },
      "source": [
        ""
      ],
      "execution_count": null,
      "outputs": []
    }
  ]
}