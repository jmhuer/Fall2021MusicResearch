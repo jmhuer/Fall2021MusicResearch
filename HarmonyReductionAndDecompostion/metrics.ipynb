{
  "nbformat": 4,
  "nbformat_minor": 0,
  "metadata": {
    "kernelspec": {
      "display_name": "Python 3",
      "language": "python",
      "name": "python3"
    },
    "language_info": {
      "codemirror_mode": {
        "name": "ipython",
        "version": 3
      },
      "file_extension": ".py",
      "mimetype": "text/x-python",
      "name": "python",
      "nbconvert_exporter": "python",
      "pygments_lexer": "ipython3",
      "version": "3.8.3"
    },
    "colab": {
      "name": "metrics.ipynb",
      "provenance": [],
      "collapsed_sections": [],
      "include_colab_link": true
    }
  },
  "cells": [
    {
      "cell_type": "markdown",
      "metadata": {
        "id": "view-in-github",
        "colab_type": "text"
      },
      "source": [
        "<a href=\"https://colab.research.google.com/github/jmhuer/Fall2021MusicResearch/blob/main/HarmonyReductionAndDecompostion/metrics.ipynb\" target=\"_parent\"><img src=\"https://colab.research.google.com/assets/colab-badge.svg\" alt=\"Open In Colab\"/></a>"
      ]
    },
    {
      "cell_type": "markdown",
      "metadata": {
        "id": "UPhtd6E_nmTm"
      },
      "source": [
        "# Usage Demo : \n"
      ]
    },
    {
      "cell_type": "code",
      "metadata": {
        "colab": {
          "base_uri": "https://localhost:8080/"
        },
        "id": "L35E7W84IEYJ",
        "outputId": "309714be-a96b-40d4-9624-93c49fe00827"
      },
      "source": [
        "# !rm -r python3_midi/\n",
        "!sudo apt-get install libasound2-dev swig\n",
        "# !pip3 install git+https://github.com/vishnubob/python-midi@feature/python3\n",
        "!pip install git+https://github.com/vishnubob/python-midi@feature/python3\n",
        "!pip install pretty_midi\n",
        "!git clone https://github.com/gregwinther/mgeval\n"
      ],
      "execution_count": null,
      "outputs": [
        {
          "output_type": "stream",
          "name": "stdout",
          "text": [
            "Cloning into 'mgeval'...\n",
            "remote: Enumerating objects: 140, done.\u001b[K\n",
            "remote: Counting objects: 100% (3/3), done.\u001b[K\n",
            "remote: Compressing objects: 100% (3/3), done.\u001b[K\n",
            "remote: Total 140 (delta 0), reused 2 (delta 0), pack-reused 137\u001b[K\n",
            "Receiving objects: 100% (140/140), 138.41 KiB | 3.95 MiB/s, done.\n",
            "Resolving deltas: 100% (54/54), done.\n"
          ]
        }
      ]
    },
    {
      "cell_type": "code",
      "metadata": {
        "id": "KNCV-LaBnmTq"
      },
      "source": [
        "import midi\n",
        "import glob\n",
        "import numpy as np\n",
        "import pretty_midi\n",
        "import seaborn as sns\n",
        "import matplotlib.pyplot as plt\n",
        "from mgeval.mgeval import core, utils\n",
        "from sklearn.model_selection import LeaveOneOut"
      ],
      "execution_count": null,
      "outputs": []
    },
    {
      "cell_type": "code",
      "metadata": {
        "colab": {
          "base_uri": "https://localhost:8080/"
        },
        "id": "JoZedAu9Hd0Q",
        "outputId": "9234de00-25e0-4fb2-9e85-2e216666be7c"
      },
      "source": [
        "# !unzip /content/1.001kwta.zip \n",
        "# !unzip /content/1.3kwta.zip\n",
        "!unzip /content/1.5kwta.zip\n"
      ],
      "execution_count": null,
      "outputs": [
        {
          "output_type": "stream",
          "name": "stdout",
          "text": [
            "Archive:  /content/1.5kwta.zip\n",
            "   creating: 1.5kwta/\n",
            "  inflating: 1.5kwta/20_25.mid       \n",
            "  inflating: 1.5kwta/18_11.mid       \n",
            "  inflating: 1.5kwta/19_4.mid        \n",
            "  inflating: 1.5kwta/19_0.mid        \n",
            "  inflating: 1.5kwta/15_17.mid       \n",
            "  inflating: 1.5kwta/16_25.mid       \n",
            "  inflating: 1.5kwta/19_3.mid        \n",
            "  inflating: 1.5kwta/19_33.mid       \n",
            "  inflating: 1.5kwta/18_20.mid       \n",
            "  inflating: 1.5kwta/16_17.mid       \n",
            "  inflating: 1.5kwta/17_13.mid       \n",
            "  inflating: 1.5kwta/14_17.mid       \n",
            "  inflating: 1.5kwta/16_4.mid        \n",
            "  inflating: 1.5kwta/14_33.mid       \n",
            "  inflating: 1.5kwta/15_24.mid       \n",
            "  inflating: 1.5kwta/20_4.mid        \n",
            "  inflating: 1.5kwta/16_33.mid       \n",
            "  inflating: 1.5kwta/18_3.mid        \n",
            "  inflating: 1.5kwta/16_28.mid       \n",
            "  inflating: 1.5kwta/17_11.mid       \n",
            "  inflating: 1.5kwta/17_4.mid        \n",
            "  inflating: 1.5kwta/14_18.mid       \n",
            "  inflating: 1.5kwta/16_13.mid       \n",
            "  inflating: 1.5kwta/17_5.mid        \n",
            "  inflating: 1.5kwta/14_34.mid       \n",
            "  inflating: 1.5kwta/15_8.mid        \n",
            "  inflating: 1.5kwta/14_36.mid       \n",
            "  inflating: 1.5kwta/18_19.mid       \n",
            "  inflating: 1.5kwta/18_35.mid       \n",
            "  inflating: 1.5kwta/19_25.mid       \n",
            "  inflating: 1.5kwta/14_28.mid       \n",
            "  inflating: 1.5kwta/14_26.mid       \n",
            "  inflating: 1.5kwta/15_34.mid       \n",
            "  inflating: 1.5kwta/18_4.mid        \n",
            "  inflating: 1.5kwta/18_39.mid       \n",
            "  inflating: 1.5kwta/20_26.mid       \n",
            "  inflating: 1.5kwta/15_18.mid       \n",
            "  inflating: 1.5kwta/16_2.mid        \n",
            "  inflating: 1.5kwta/18_5.mid        \n",
            "  inflating: 1.5kwta/16_15.mid       \n",
            "  inflating: 1.5kwta/18_6.mid        \n",
            "  inflating: 1.5kwta/17_22.mid       \n",
            "  inflating: 1.5kwta/14_4.mid        \n",
            "  inflating: 1.5kwta/16_0.mid        \n",
            "  inflating: 1.5kwta/20_39.mid       \n",
            "  inflating: 1.5kwta/14_23.mid       \n",
            "  inflating: 1.5kwta/15_38.mid       \n",
            "  inflating: 1.5kwta/20_19.mid       \n",
            "  inflating: 1.5kwta/18_10.mid       \n",
            "  inflating: 1.5kwta/14_37.mid       \n",
            "  inflating: 1.5kwta/17_39.mid       \n",
            "  inflating: 1.5kwta/17_21.mid       \n",
            "  inflating: 1.5kwta/16_12.mid       \n",
            "  inflating: 1.5kwta/15_20.mid       \n",
            "  inflating: 1.5kwta/14_8.mid        \n",
            "  inflating: 1.5kwta/17_29.mid       \n",
            "  inflating: 1.5kwta/18_0.mid        \n",
            "  inflating: 1.5kwta/15_6.mid        \n",
            "  inflating: 1.5kwta/20_30.mid       \n",
            "  inflating: 1.5kwta/15_36.mid       \n",
            "  inflating: 1.5kwta/15_22.mid       \n",
            "  inflating: 1.5kwta/14_12.mid       \n",
            "  inflating: 1.5kwta/17_27.mid       \n",
            "  inflating: 1.5kwta/15_37.mid       \n",
            "  inflating: 1.5kwta/20_17.mid       \n",
            "  inflating: 1.5kwta/14_21.mid       \n",
            "  inflating: 1.5kwta/14_13.mid       \n",
            "  inflating: 1.5kwta/17_12.mid       \n",
            "  inflating: 1.5kwta/20_1.mid        \n",
            "  inflating: 1.5kwta/17_18.mid       \n",
            "  inflating: 1.5kwta/15_10.mid       \n",
            "  inflating: 1.5kwta/20_24.mid       \n",
            "  inflating: 1.5kwta/18_26.mid       \n",
            "  inflating: 1.5kwta/18_38.mid       \n",
            "  inflating: 1.5kwta/20_0.mid        \n",
            "  inflating: 1.5kwta/19_1.mid        \n",
            "  inflating: 1.5kwta/18_14.mid       \n",
            "  inflating: 1.5kwta/15_30.mid       \n",
            "  inflating: 1.5kwta/15_32.mid       \n",
            "  inflating: 1.5kwta/18_23.mid       \n",
            "  inflating: 1.5kwta/20_15.mid       \n",
            "  inflating: 1.5kwta/16_29.mid       \n",
            "  inflating: 1.5kwta/19_36.mid       \n",
            "  inflating: 1.5kwta/18_25.mid       \n",
            "  inflating: 1.5kwta/20_7.mid        \n",
            "  inflating: 1.5kwta/16_39.mid       \n",
            "  inflating: 1.5kwta/15_16.mid       \n",
            "  inflating: 1.5kwta/19_16.mid       \n",
            "  inflating: 1.5kwta/19_13.mid       \n",
            "  inflating: 1.5kwta/20_29.mid       \n",
            "  inflating: 1.5kwta/15_25.mid       \n",
            "  inflating: 1.5kwta/14_20.mid       \n",
            "  inflating: 1.5kwta/17_7.mid        \n",
            "  inflating: 1.5kwta/14_35.mid       \n",
            "  inflating: 1.5kwta/20_35.mid       \n",
            "  inflating: 1.5kwta/18_31.mid       \n",
            "  inflating: 1.5kwta/20_22.mid       \n",
            "  inflating: 1.5kwta/18_30.mid       \n",
            "  inflating: 1.5kwta/16_27.mid       \n",
            "  inflating: 1.5kwta/15_14.mid       \n",
            "  inflating: 1.5kwta/15_33.mid       \n",
            "  inflating: 1.5kwta/20_2.mid        \n",
            "  inflating: 1.5kwta/16_21.mid       \n",
            "  inflating: 1.5kwta/20_28.mid       \n",
            "  inflating: 1.5kwta/15_3.mid        \n",
            "  inflating: 1.5kwta/19_31.mid       \n",
            "  inflating: 1.5kwta/19_20.mid       \n",
            "  inflating: 1.5kwta/14_30.mid       \n",
            "  inflating: 1.5kwta/16_8.mid        \n",
            "  inflating: 1.5kwta/19_7.mid        \n",
            "  inflating: 1.5kwta/18_9.mid        \n",
            "  inflating: 1.5kwta/20_14.mid       \n",
            "  inflating: 1.5kwta/19_2.mid        \n",
            "  inflating: 1.5kwta/19_21.mid       \n",
            "  inflating: 1.5kwta/14_25.mid       \n",
            "  inflating: 1.5kwta/17_35.mid       \n",
            "  inflating: 1.5kwta/15_2.mid        \n",
            "  inflating: 1.5kwta/15_5.mid        \n",
            "  inflating: 1.5kwta/19_5.mid        \n",
            "  inflating: 1.5kwta/17_38.mid       \n",
            "  inflating: 1.5kwta/15_1.mid        \n",
            "  inflating: 1.5kwta/20_3.mid        \n",
            "  inflating: 1.5kwta/18_18.mid       \n",
            "  inflating: 1.5kwta/17_9.mid        \n",
            "  inflating: 1.5kwta/19_6.mid        \n",
            "  inflating: 1.5kwta/14_10.mid       \n",
            "  inflating: 1.5kwta/19_24.mid       \n",
            "  inflating: 1.5kwta/18_24.mid       \n",
            "  inflating: 1.5kwta/18_29.mid       \n",
            "  inflating: 1.5kwta/20_36.mid       \n",
            "  inflating: 1.5kwta/14_16.mid       \n",
            "  inflating: 1.5kwta/18_32.mid       \n",
            "  inflating: 1.5kwta/18_22.mid       \n",
            "  inflating: 1.5kwta/19_15.mid       \n",
            "  inflating: 1.5kwta/16_20.mid       \n",
            "  inflating: 1.5kwta/17_17.mid       \n",
            "  inflating: 1.5kwta/19_19.mid       \n",
            "  inflating: 1.5kwta/19_29.mid       \n",
            "  inflating: 1.5kwta/20_13.mid       \n",
            "  inflating: 1.5kwta/17_0.mid        \n",
            "  inflating: 1.5kwta/16_19.mid       \n",
            "  inflating: 1.5kwta/17_1.mid        \n",
            "  inflating: 1.5kwta/14_2.mid        \n",
            "  inflating: 1.5kwta/20_20.mid       \n",
            "  inflating: 1.5kwta/16_26.mid       \n",
            "  inflating: 1.5kwta/19_26.mid       \n",
            "  inflating: 1.5kwta/19_37.mid       \n",
            "  inflating: 1.5kwta/14_5.mid        \n",
            "  inflating: 1.5kwta/19_14.mid       \n",
            "  inflating: 1.5kwta/17_33.mid       \n",
            "  inflating: 1.5kwta/14_11.mid       \n",
            "  inflating: 1.5kwta/20_8.mid        \n",
            "  inflating: 1.5kwta/19_22.mid       \n",
            "  inflating: 1.5kwta/14_32.mid       \n",
            "  inflating: 1.5kwta/17_8.mid        \n",
            "  inflating: 1.5kwta/18_28.mid       \n",
            "  inflating: 1.5kwta/17_24.mid       \n",
            "  inflating: 1.5kwta/14_39.mid       \n",
            "  inflating: 1.5kwta/17_2.mid        \n",
            "  inflating: 1.5kwta/14_24.mid       \n",
            "  inflating: 1.5kwta/16_24.mid       \n",
            "  inflating: 1.5kwta/17_14.mid       \n",
            "  inflating: 1.5kwta/16_14.mid       \n",
            "  inflating: 1.5kwta/18_1.mid        \n",
            "  inflating: 1.5kwta/15_35.mid       \n",
            "  inflating: 1.5kwta/20_6.mid        \n",
            "  inflating: 1.5kwta/19_32.mid       \n",
            "  inflating: 1.5kwta/20_5.mid        \n",
            "  inflating: 1.5kwta/19_38.mid       \n",
            "  inflating: 1.5kwta/14_1.mid        \n",
            "  inflating: 1.5kwta/15_4.mid        \n",
            "  inflating: 1.5kwta/19_35.mid       \n",
            "  inflating: 1.5kwta/19_8.mid        \n",
            "  inflating: 1.5kwta/19_28.mid       \n",
            "  inflating: 1.5kwta/18_12.mid       \n",
            "  inflating: 1.5kwta/19_10.mid       \n",
            "  inflating: 1.5kwta/17_32.mid       \n",
            "  inflating: 1.5kwta/18_36.mid       \n",
            "  inflating: 1.5kwta/17_25.mid       \n",
            "  inflating: 1.5kwta/16_37.mid       \n",
            "  inflating: 1.5kwta/16_18.mid       \n",
            "  inflating: 1.5kwta/16_1.mid        \n",
            "  inflating: 1.5kwta/16_36.mid       \n",
            "  inflating: 1.5kwta/18_27.mid       \n",
            "  inflating: 1.5kwta/18_37.mid       \n",
            "  inflating: 1.5kwta/14_14.mid       \n",
            "  inflating: 1.5kwta/17_26.mid       \n",
            "  inflating: 1.5kwta/19_11.mid       \n",
            "  inflating: 1.5kwta/18_13.mid       \n",
            "  inflating: 1.5kwta/18_34.mid       \n",
            "  inflating: 1.5kwta/15_9.mid        \n",
            "  inflating: 1.5kwta/17_10.mid       \n",
            "  inflating: 1.5kwta/17_31.mid       \n",
            "  inflating: 1.5kwta/17_30.mid       \n",
            "  inflating: 1.5kwta/16_34.mid       \n",
            "  inflating: 1.5kwta/15_12.mid       \n",
            "  inflating: 1.5kwta/14_22.mid       \n",
            "  inflating: 1.5kwta/16_31.mid       \n",
            "  inflating: 1.5kwta/20_31.mid       \n",
            "  inflating: 1.5kwta/19_30.mid       \n",
            "  inflating: 1.5kwta/19_27.mid       \n",
            "  inflating: 1.5kwta/16_11.mid       \n",
            "  inflating: 1.5kwta/16_32.mid       \n",
            "  inflating: 1.5kwta/14_29.mid       \n",
            "  inflating: 1.5kwta/16_38.mid       \n",
            "  inflating: 1.5kwta/20_11.mid       \n",
            "  inflating: 1.5kwta/17_37.mid       \n",
            "  inflating: 1.5kwta/15_11.mid       \n",
            "  inflating: 1.5kwta/15_31.mid       \n",
            "  inflating: 1.5kwta/16_10.mid       \n",
            "  inflating: 1.5kwta/16_35.mid       \n",
            "  inflating: 1.5kwta/19_17.mid       \n",
            "  inflating: 1.5kwta/14_31.mid       \n",
            "  inflating: 1.5kwta/20_18.mid       \n",
            "  inflating: 1.5kwta/18_21.mid       \n",
            "  inflating: 1.5kwta/15_27.mid       \n",
            "  inflating: 1.5kwta/15_19.mid       \n",
            "  inflating: 1.5kwta/14_3.mid        \n",
            "  inflating: 1.5kwta/17_19.mid       \n",
            "  inflating: 1.5kwta/20_33.mid       \n",
            "  inflating: 1.5kwta/17_28.mid       \n",
            "  inflating: 1.5kwta/19_12.mid       \n",
            "  inflating: 1.5kwta/18_16.mid       \n",
            "  inflating: 1.5kwta/20_16.mid       \n",
            "  inflating: 1.5kwta/17_6.mid        \n",
            "  inflating: 1.5kwta/18_2.mid        \n",
            "  inflating: 1.5kwta/19_23.mid       \n",
            "  inflating: 1.5kwta/15_23.mid       \n",
            "  inflating: 1.5kwta/17_34.mid       \n",
            "  inflating: 1.5kwta/15_29.mid       \n",
            "  inflating: 1.5kwta/14_9.mid        \n",
            "  inflating: 1.5kwta/20_21.mid       \n",
            "  inflating: 1.5kwta/15_15.mid       \n",
            "  inflating: 1.5kwta/16_3.mid        \n",
            "  inflating: 1.5kwta/17_36.mid       \n",
            "  inflating: 1.5kwta/18_8.mid        \n",
            "  inflating: 1.5kwta/16_22.mid       \n",
            "  inflating: 1.5kwta/15_21.mid       \n",
            "  inflating: 1.5kwta/20_37.mid       \n",
            "  inflating: 1.5kwta/20_12.mid       \n",
            "  inflating: 1.5kwta/16_5.mid        \n",
            "  inflating: 1.5kwta/20_27.mid       \n",
            "  inflating: 1.5kwta/14_6.mid        \n",
            "  inflating: 1.5kwta/17_23.mid       \n",
            "  inflating: 1.5kwta/15_28.mid       \n",
            "  inflating: 1.5kwta/20_32.mid       \n",
            "  inflating: 1.5kwta/14_7.mid        \n",
            "  inflating: 1.5kwta/18_15.mid       \n",
            "  inflating: 1.5kwta/20_9.mid        \n",
            "  inflating: 1.5kwta/20_23.mid       \n",
            "  inflating: 1.5kwta/15_13.mid       \n",
            "  inflating: 1.5kwta/20_34.mid       \n",
            "  inflating: 1.5kwta/16_9.mid        \n",
            "  inflating: 1.5kwta/19_34.mid       \n",
            "  inflating: 1.5kwta/14_38.mid       \n",
            "  inflating: 1.5kwta/17_15.mid       \n",
            "  inflating: 1.5kwta/17_3.mid        \n",
            "  inflating: 1.5kwta/16_23.mid       \n",
            "  inflating: 1.5kwta/17_16.mid       \n",
            "  inflating: 1.5kwta/16_7.mid        \n",
            "  inflating: 1.5kwta/16_30.mid       \n",
            "  inflating: 1.5kwta/18_7.mid        \n",
            "  inflating: 1.5kwta/15_26.mid       \n",
            "  inflating: 1.5kwta/15_7.mid        \n",
            "  inflating: 1.5kwta/20_10.mid       \n",
            "  inflating: 1.5kwta/19_9.mid        \n",
            "  inflating: 1.5kwta/18_17.mid       \n",
            "  inflating: 1.5kwta/14_0.mid        \n",
            "  inflating: 1.5kwta/20_38.mid       \n",
            "  inflating: 1.5kwta/16_16.mid       \n",
            "  inflating: 1.5kwta/19_18.mid       \n",
            "  inflating: 1.5kwta/17_20.mid       \n",
            "  inflating: 1.5kwta/14_27.mid       \n",
            "  inflating: 1.5kwta/15_0.mid        \n",
            "  inflating: 1.5kwta/16_6.mid        \n",
            "  inflating: 1.5kwta/14_15.mid       \n",
            "  inflating: 1.5kwta/19_39.mid       \n",
            "  inflating: 1.5kwta/18_33.mid       \n",
            "  inflating: 1.5kwta/15_39.mid       \n",
            "  inflating: 1.5kwta/14_19.mid       \n",
            "  inflating: 1.5kwta/41_3.mid        \n",
            "  inflating: 1.5kwta/39_27.mid       \n",
            "  inflating: 1.5kwta/38_39.mid       \n",
            "  inflating: 1.5kwta/40_15.mid       \n",
            "  inflating: 1.5kwta/37_25.mid       \n",
            "  inflating: 1.5kwta/37_32.mid       \n",
            "  inflating: 1.5kwta/39_22.mid       \n",
            "  inflating: 1.5kwta/38_16.mid       \n",
            "  inflating: 1.5kwta/36_11.mid       \n",
            "  inflating: 1.5kwta/38_1.mid        \n",
            "  inflating: 1.5kwta/35_36.mid       \n",
            "  inflating: 1.5kwta/40_21.mid       \n",
            "  inflating: 1.5kwta/35_20.mid       \n",
            "  inflating: 1.5kwta/39_38.mid       \n",
            "  inflating: 1.5kwta/36_2.mid        \n",
            "  inflating: 1.5kwta/39_35.mid       \n",
            "  inflating: 1.5kwta/41_6.mid        \n",
            "  inflating: 1.5kwta/40_1.mid        \n",
            "  inflating: 1.5kwta/40_34.mid       \n",
            "  inflating: 1.5kwta/37_22.mid       \n",
            "  inflating: 1.5kwta/40_8.mid        \n",
            "  inflating: 1.5kwta/36_15.mid       \n",
            "  inflating: 1.5kwta/36_3.mid        \n",
            "  inflating: 1.5kwta/36_22.mid       \n",
            "  inflating: 1.5kwta/41_15.mid       \n",
            "  inflating: 1.5kwta/37_28.mid       \n",
            "  inflating: 1.5kwta/38_10.mid       \n",
            "  inflating: 1.5kwta/35_8.mid        \n",
            "  inflating: 1.5kwta/38_29.mid       \n",
            "  inflating: 1.5kwta/36_34.mid       \n",
            "  inflating: 1.5kwta/39_34.mid       \n",
            "  inflating: 1.5kwta/38_24.mid       \n",
            "  inflating: 1.5kwta/37_38.mid       \n",
            "  inflating: 1.5kwta/38_26.mid       \n",
            "  inflating: 1.5kwta/35_22.mid       \n",
            "  inflating: 1.5kwta/40_24.mid       \n",
            "  inflating: 1.5kwta/38_11.mid       \n",
            "  inflating: 1.5kwta/41_29.mid       \n",
            "  inflating: 1.5kwta/35_17.mid       \n",
            "  inflating: 1.5kwta/40_5.mid        \n",
            "  inflating: 1.5kwta/36_20.mid       \n",
            "  inflating: 1.5kwta/39_21.mid       \n",
            "  inflating: 1.5kwta/35_3.mid        \n",
            "  inflating: 1.5kwta/35_21.mid       \n",
            "  inflating: 1.5kwta/36_12.mid       \n",
            "  inflating: 1.5kwta/39_5.mid        \n",
            "  inflating: 1.5kwta/36_4.mid        \n",
            "  inflating: 1.5kwta/40_4.mid        \n",
            "  inflating: 1.5kwta/39_25.mid       \n",
            "  inflating: 1.5kwta/35_4.mid        \n",
            "  inflating: 1.5kwta/40_32.mid       \n",
            "  inflating: 1.5kwta/39_10.mid       \n",
            "  inflating: 1.5kwta/41_17.mid       \n",
            "  inflating: 1.5kwta/35_23.mid       \n",
            "  inflating: 1.5kwta/36_19.mid       \n",
            "  inflating: 1.5kwta/41_9.mid        \n",
            "  inflating: 1.5kwta/40_30.mid       \n",
            "  inflating: 1.5kwta/35_29.mid       \n",
            "  inflating: 1.5kwta/38_6.mid        \n",
            "  inflating: 1.5kwta/39_39.mid       \n",
            "  inflating: 1.5kwta/37_23.mid       \n",
            "  inflating: 1.5kwta/40_13.mid       \n",
            "  inflating: 1.5kwta/36_26.mid       \n",
            "  inflating: 1.5kwta/36_21.mid       \n",
            "  inflating: 1.5kwta/41_8.mid        \n",
            "  inflating: 1.5kwta/39_30.mid       \n",
            "  inflating: 1.5kwta/35_19.mid       \n",
            "  inflating: 1.5kwta/36_32.mid       \n",
            "  inflating: 1.5kwta/41_32.mid       \n",
            "  inflating: 1.5kwta/41_11.mid       \n",
            "  inflating: 1.5kwta/35_2.mid        \n",
            "  inflating: 1.5kwta/41_33.mid       \n",
            "  inflating: 1.5kwta/37_7.mid        \n",
            "  inflating: 1.5kwta/36_27.mid       \n",
            "  inflating: 1.5kwta/38_38.mid       \n",
            "  inflating: 1.5kwta/41_12.mid       \n",
            "  inflating: 1.5kwta/38_2.mid        \n",
            "  inflating: 1.5kwta/38_7.mid        \n",
            "  inflating: 1.5kwta/38_4.mid        \n",
            "  inflating: 1.5kwta/40_20.mid       \n",
            "  inflating: 1.5kwta/35_0.mid        \n",
            "  inflating: 1.5kwta/35_5.mid        \n",
            "  inflating: 1.5kwta/37_24.mid       \n",
            "  inflating: 1.5kwta/39_8.mid        \n",
            "  inflating: 1.5kwta/35_14.mid       \n",
            "  inflating: 1.5kwta/38_25.mid       \n",
            "  inflating: 1.5kwta/36_8.mid        \n",
            "  inflating: 1.5kwta/39_23.mid       \n",
            "  inflating: 1.5kwta/36_37.mid       \n",
            "  inflating: 1.5kwta/37_11.mid       \n",
            "  inflating: 1.5kwta/40_38.mid       \n",
            "  inflating: 1.5kwta/37_14.mid       \n",
            "  inflating: 1.5kwta/41_18.mid       \n",
            "  inflating: 1.5kwta/36_23.mid       \n",
            "  inflating: 1.5kwta/40_12.mid       \n",
            "  inflating: 1.5kwta/40_28.mid       \n",
            "  inflating: 1.5kwta/35_31.mid       \n",
            "  inflating: 1.5kwta/37_3.mid        \n",
            "  inflating: 1.5kwta/35_27.mid       \n",
            "  inflating: 1.5kwta/41_5.mid        \n",
            "  inflating: 1.5kwta/35_9.mid        \n",
            "  inflating: 1.5kwta/41_24.mid       \n",
            "  inflating: 1.5kwta/37_9.mid        \n",
            "  inflating: 1.5kwta/37_21.mid       \n",
            "  inflating: 1.5kwta/36_0.mid        \n",
            "  inflating: 1.5kwta/38_36.mid       \n",
            "  inflating: 1.5kwta/36_6.mid        \n",
            "  inflating: 1.5kwta/39_36.mid       \n",
            "  inflating: 1.5kwta/38_31.mid       \n",
            "  inflating: 1.5kwta/35_11.mid       \n",
            "  inflating: 1.5kwta/37_15.mid       \n",
            "  inflating: 1.5kwta/39_28.mid       \n",
            "  inflating: 1.5kwta/41_34.mid       \n",
            "  inflating: 1.5kwta/39_16.mid       \n",
            "  inflating: 1.5kwta/41_2.mid        \n",
            "  inflating: 1.5kwta/38_27.mid       \n",
            "  inflating: 1.5kwta/36_9.mid        \n",
            "  inflating: 1.5kwta/40_35.mid       \n",
            "  inflating: 1.5kwta/35_28.mid       \n",
            "  inflating: 1.5kwta/38_23.mid       \n",
            "  inflating: 1.5kwta/37_30.mid       \n",
            "  inflating: 1.5kwta/38_19.mid       \n",
            "  inflating: 1.5kwta/41_26.mid       \n",
            "  inflating: 1.5kwta/41_7.mid        \n",
            "  inflating: 1.5kwta/39_0.mid        \n",
            "  inflating: 1.5kwta/40_16.mid       \n",
            "  inflating: 1.5kwta/39_14.mid       \n",
            "  inflating: 1.5kwta/40_18.mid       \n",
            "  inflating: 1.5kwta/39_31.mid       \n",
            "  inflating: 1.5kwta/39_26.mid       \n",
            "  inflating: 1.5kwta/35_7.mid        \n",
            "  inflating: 1.5kwta/39_19.mid       \n",
            "  inflating: 1.5kwta/35_33.mid       \n",
            "  inflating: 1.5kwta/37_27.mid       \n",
            "  inflating: 1.5kwta/36_25.mid       \n",
            "  inflating: 1.5kwta/38_3.mid        \n",
            "  inflating: 1.5kwta/41_19.mid       \n",
            "  inflating: 1.5kwta/40_26.mid       \n",
            "  inflating: 1.5kwta/38_5.mid        \n",
            "  inflating: 1.5kwta/39_37.mid       \n",
            "  inflating: 1.5kwta/35_35.mid       \n",
            "  inflating: 1.5kwta/40_2.mid        \n",
            "  inflating: 1.5kwta/38_34.mid       \n",
            "  inflating: 1.5kwta/38_35.mid       \n",
            "  inflating: 1.5kwta/37_39.mid       \n",
            "  inflating: 1.5kwta/36_14.mid       \n",
            "  inflating: 1.5kwta/36_5.mid        \n",
            "  inflating: 1.5kwta/40_3.mid        \n",
            "  inflating: 1.5kwta/38_28.mid       \n",
            "  inflating: 1.5kwta/39_33.mid       \n",
            "  inflating: 1.5kwta/37_33.mid       \n",
            "  inflating: 1.5kwta/35_18.mid       \n",
            "  inflating: 1.5kwta/41_37.mid       \n",
            "  inflating: 1.5kwta/40_14.mid       \n",
            "  inflating: 1.5kwta/40_39.mid       \n",
            "  inflating: 1.5kwta/39_13.mid       \n",
            "  inflating: 1.5kwta/37_34.mid       \n",
            "  inflating: 1.5kwta/39_1.mid        \n",
            "  inflating: 1.5kwta/35_24.mid       \n",
            "  inflating: 1.5kwta/36_1.mid        \n",
            "  inflating: 1.5kwta/36_38.mid       \n",
            "  inflating: 1.5kwta/37_8.mid        \n",
            "  inflating: 1.5kwta/39_32.mid       \n",
            "  inflating: 1.5kwta/39_2.mid        \n",
            "  inflating: 1.5kwta/37_35.mid       \n",
            "  inflating: 1.5kwta/40_17.mid       \n",
            "  inflating: 1.5kwta/39_6.mid        \n",
            "  inflating: 1.5kwta/38_14.mid       \n",
            "  inflating: 1.5kwta/41_39.mid       \n",
            "  inflating: 1.5kwta/37_5.mid        \n",
            "  inflating: 1.5kwta/37_26.mid       \n",
            "  inflating: 1.5kwta/37_10.mid       \n",
            "  inflating: 1.5kwta/35_12.mid       \n",
            "  inflating: 1.5kwta/37_13.mid       \n",
            "  inflating: 1.5kwta/37_12.mid       \n",
            "  inflating: 1.5kwta/35_30.mid       \n",
            "  inflating: 1.5kwta/39_18.mid       \n",
            "  inflating: 1.5kwta/38_13.mid       \n",
            "  inflating: 1.5kwta/40_23.mid       \n",
            "  inflating: 1.5kwta/35_38.mid       \n",
            "  inflating: 1.5kwta/38_30.mid       \n",
            "  inflating: 1.5kwta/37_2.mid        \n",
            "  inflating: 1.5kwta/35_25.mid       \n",
            "  inflating: 1.5kwta/38_20.mid       \n",
            "  inflating: 1.5kwta/36_31.mid       \n",
            "  inflating: 1.5kwta/35_32.mid       \n",
            "  inflating: 1.5kwta/36_10.mid       \n",
            "  inflating: 1.5kwta/41_36.mid       \n",
            "  inflating: 1.5kwta/35_26.mid       \n",
            "  inflating: 1.5kwta/37_1.mid        \n",
            "  inflating: 1.5kwta/38_33.mid       \n",
            "  inflating: 1.5kwta/41_35.mid       \n",
            "  inflating: 1.5kwta/40_22.mid       \n",
            "  inflating: 1.5kwta/36_30.mid       \n",
            "  inflating: 1.5kwta/37_6.mid        \n",
            "  inflating: 1.5kwta/41_10.mid       \n",
            "  inflating: 1.5kwta/41_28.mid       \n",
            "  inflating: 1.5kwta/35_16.mid       \n",
            "  inflating: 1.5kwta/39_7.mid        \n",
            "  inflating: 1.5kwta/37_36.mid       \n",
            "  inflating: 1.5kwta/35_37.mid       \n",
            "  inflating: 1.5kwta/37_16.mid       \n",
            "  inflating: 1.5kwta/39_3.mid        \n",
            "  inflating: 1.5kwta/40_29.mid       \n",
            "  inflating: 1.5kwta/39_12.mid       \n",
            "  inflating: 1.5kwta/39_24.mid       \n",
            "  inflating: 1.5kwta/41_31.mid       \n",
            "  inflating: 1.5kwta/41_21.mid       \n",
            "  inflating: 1.5kwta/40_36.mid       \n",
            "  inflating: 1.5kwta/41_30.mid       \n",
            "  inflating: 1.5kwta/40_31.mid       \n",
            "  inflating: 1.5kwta/38_0.mid        \n",
            "  inflating: 1.5kwta/40_10.mid       \n",
            "  inflating: 1.5kwta/36_28.mid       \n",
            "  inflating: 1.5kwta/35_13.mid       \n",
            "  inflating: 1.5kwta/36_13.mid       \n",
            "  inflating: 1.5kwta/38_21.mid       \n",
            "  inflating: 1.5kwta/38_37.mid       \n",
            "  inflating: 1.5kwta/41_25.mid       \n",
            "  inflating: 1.5kwta/41_4.mid        \n",
            "  inflating: 1.5kwta/36_16.mid       \n",
            "  inflating: 1.5kwta/38_12.mid       \n",
            "  inflating: 1.5kwta/38_8.mid        \n",
            "  inflating: 1.5kwta/38_18.mid       \n",
            "  inflating: 1.5kwta/39_9.mid        \n",
            "  inflating: 1.5kwta/35_15.mid       \n",
            "  inflating: 1.5kwta/37_19.mid       \n",
            "  inflating: 1.5kwta/41_22.mid       \n",
            "  inflating: 1.5kwta/41_1.mid        \n",
            "  inflating: 1.5kwta/38_15.mid       \n",
            "  inflating: 1.5kwta/37_20.mid       \n",
            "  inflating: 1.5kwta/41_23.mid       \n",
            "  inflating: 1.5kwta/37_31.mid       \n",
            "  inflating: 1.5kwta/41_0.mid        \n",
            "  inflating: 1.5kwta/37_18.mid       \n",
            "  inflating: 1.5kwta/39_17.mid       \n",
            "  inflating: 1.5kwta/38_17.mid       \n",
            "  inflating: 1.5kwta/41_14.mid       \n",
            "  inflating: 1.5kwta/35_6.mid        \n",
            "  inflating: 1.5kwta/40_33.mid       \n",
            "  inflating: 1.5kwta/39_11.mid       \n",
            "  inflating: 1.5kwta/35_10.mid       \n",
            "  inflating: 1.5kwta/35_34.mid       \n",
            "  inflating: 1.5kwta/39_29.mid       \n",
            "  inflating: 1.5kwta/39_4.mid        \n",
            "  inflating: 1.5kwta/39_15.mid       \n",
            "  inflating: 1.5kwta/38_9.mid        \n",
            "  inflating: 1.5kwta/36_35.mid       \n",
            "  inflating: 1.5kwta/40_6.mid        \n",
            "  inflating: 1.5kwta/39_20.mid       \n",
            "  inflating: 1.5kwta/36_29.mid       \n",
            "  inflating: 1.5kwta/38_22.mid       \n",
            "  inflating: 1.5kwta/41_13.mid       \n",
            "  inflating: 1.5kwta/36_39.mid       \n",
            "  inflating: 1.5kwta/35_1.mid        \n",
            "  inflating: 1.5kwta/41_20.mid       \n",
            "  inflating: 1.5kwta/41_16.mid       \n",
            "  inflating: 1.5kwta/40_7.mid        \n",
            "  inflating: 1.5kwta/37_17.mid       \n",
            "  inflating: 1.5kwta/36_7.mid        \n",
            "  inflating: 1.5kwta/37_4.mid        \n",
            "  inflating: 1.5kwta/37_37.mid       \n",
            "  inflating: 1.5kwta/36_36.mid       \n",
            "  inflating: 1.5kwta/36_17.mid       \n",
            "  inflating: 1.5kwta/36_18.mid       \n",
            "  inflating: 1.5kwta/35_39.mid       \n",
            "  inflating: 1.5kwta/41_38.mid       \n",
            "  inflating: 1.5kwta/40_37.mid       \n",
            "  inflating: 1.5kwta/37_29.mid       \n",
            "  inflating: 1.5kwta/40_25.mid       \n",
            "  inflating: 1.5kwta/37_0.mid        \n",
            "  inflating: 1.5kwta/40_0.mid        \n",
            "  inflating: 1.5kwta/36_33.mid       \n",
            "  inflating: 1.5kwta/40_27.mid       \n",
            "  inflating: 1.5kwta/40_9.mid        \n",
            "  inflating: 1.5kwta/41_27.mid       \n",
            "  inflating: 1.5kwta/40_19.mid       \n",
            "  inflating: 1.5kwta/36_24.mid       \n",
            "  inflating: 1.5kwta/38_32.mid       \n",
            "  inflating: 1.5kwta/40_11.mid       \n"
          ]
        }
      ]
    },
    {
      "cell_type": "markdown",
      "metadata": {
        "id": "isgA8H8znmTs"
      },
      "source": [
        "## Absolute measurement: statistic analysis\n"
      ]
    },
    {
      "cell_type": "markdown",
      "metadata": {
        "id": "EjRdUdRPnmTt"
      },
      "source": [
        "Assign dataset path"
      ]
    },
    {
      "cell_type": "code",
      "metadata": {
        "id": "5ANCDH8ynmTu"
      },
      "source": [
        "set1 = glob.glob('/content/1.001kwta/*.mid')"
      ],
      "execution_count": null,
      "outputs": []
    },
    {
      "cell_type": "markdown",
      "metadata": {
        "id": "oncSxQ9mnmTu"
      },
      "source": [
        "construct empty dictionary to fill in measurement across samples"
      ]
    },
    {
      "cell_type": "code",
      "metadata": {
        "colab": {
          "base_uri": "https://localhost:8080/"
        },
        "id": "nCZ1g_ksnmTv",
        "outputId": "0b110862-6796-4ecc-dc22-4e5c21db03c0"
      },
      "source": [
        "num_samples = len(set1)\n",
        "print(num_samples)"
      ],
      "execution_count": null,
      "outputs": [
        {
          "output_type": "stream",
          "name": "stdout",
          "text": [
            "560\n"
          ]
        }
      ]
    },
    {
      "cell_type": "code",
      "metadata": {
        "id": "eZIuesILnmTw"
      },
      "source": [
        "set1_eval = {'avg_IOI':np.zeros((num_samples,1))}\n",
        "metrics_list = list(set1_eval.keys())\n",
        "for i in range(0, num_samples):\n",
        "    feature = core.extract_feature(set1[i])\n",
        "    set1_eval[metrics_list[0]][i] = getattr(core.metrics(), metrics_list[0])(feature)"
      ],
      "execution_count": null,
      "outputs": []
    },
    {
      "cell_type": "markdown",
      "metadata": {
        "id": "WUJ-dxxRnmTx"
      },
      "source": [
        "repeat for second dataset"
      ]
    },
    {
      "cell_type": "code",
      "metadata": {
        "id": "TlFDgPusnmTy"
      },
      "source": [
        "set2 = glob.glob('/content/1.5kwta/*.mid')\n",
        "set2_eval = {'avg_IOI':np.zeros((num_samples,1))}\n",
        "for i in range(0, num_samples):\n",
        "    feature = core.extract_feature(set2[i])\n",
        "    set2_eval[metrics_list[0]][i] = getattr(core.metrics(), metrics_list[0])(feature)"
      ],
      "execution_count": null,
      "outputs": []
    },
    {
      "cell_type": "markdown",
      "metadata": {
        "id": "iWdGiFrKnmTz"
      },
      "source": [
        "statistic analysis: absolute measurement"
      ]
    },
    {
      "cell_type": "code",
      "metadata": {
        "colab": {
          "base_uri": "https://localhost:8080/"
        },
        "id": "uCq3Ki2MnmTz",
        "outputId": "b2722d0f-aa9a-4465-8a1f-7d1594dd3162"
      },
      "source": [
        "print(len(metrics_list))\n",
        "\n",
        "for i in range(0, len(metrics_list)):\n",
        "    print(metrics_list[i] + ':')\n",
        "    print('------------------------')\n",
        "    print(' demo_set')\n",
        "    print('  mean: ', np.mean(set1_eval[metrics_list[i]], axis=0))\n",
        "    print('  std: ', np.std(set1_eval[metrics_list[i]], axis=0))\n",
        "\n",
        "    print('------------------------')\n",
        "    print(' demo_set')\n",
        "    print('  mean: ', np.mean(set2_eval[metrics_list[i]], axis=0))\n",
        "    print('  std: ', np.std(set2_eval[metrics_list[i]], axis=0))\n"
      ],
      "execution_count": null,
      "outputs": [
        {
          "output_type": "stream",
          "name": "stdout",
          "text": [
            "1\n",
            "avg_IOI:\n",
            "------------------------\n",
            " demo_set\n",
            "  mean:  [0.17859202]\n",
            "  std:  [0.07579346]\n",
            "------------------------\n",
            " demo_set\n",
            "  mean:  [0.11788881]\n",
            "  std:  [0.04765125]\n"
          ]
        }
      ]
    },
    {
      "cell_type": "markdown",
      "metadata": {
        "id": "30Dfb1DqnmT1"
      },
      "source": [
        "## Relative measurement: generalizes the result among features with various dimensions\n"
      ]
    },
    {
      "cell_type": "markdown",
      "metadata": {
        "id": "u7prYdTmnmT1"
      },
      "source": [
        "the features are sum- marized to \n",
        "- the intra-set distances\n",
        "- the difference of intra-set and inter-set distances."
      ]
    },
    {
      "cell_type": "markdown",
      "metadata": {
        "id": "ma49EzYnnmT2"
      },
      "source": [
        "exhaustive cross-validation for intra-set distances measurement"
      ]
    },
    {
      "cell_type": "code",
      "metadata": {
        "id": "3Pf4Cz1rnmT2"
      },
      "source": [
        "loo = LeaveOneOut()\n",
        "loo.get_n_splits(np.arange(num_samples))\n",
        "set1_intra = np.zeros((num_samples, len(metrics_list), num_samples-1))\n",
        "set2_intra = np.zeros((num_samples, len(metrics_list), num_samples-1))\n",
        "for i in range(len(metrics_list)):\n",
        "    for train_index, test_index in loo.split(np.arange(num_samples)):\n",
        "        # print(train_index)\n",
        "        set1_intra[test_index[0]][i] = utils.c_dist(set1_eval[metrics_list[i]][test_index], set1_eval[metrics_list[i]][train_index])\n",
        "        set2_intra[test_index[0]][i] = utils.c_dist(set2_eval[metrics_list[i]][test_index], set2_eval[metrics_list[i]][train_index])\n",
        "\n"
      ],
      "execution_count": null,
      "outputs": []
    },
    {
      "cell_type": "markdown",
      "metadata": {
        "id": "8VAO5YQhnmT3"
      },
      "source": [
        "exhaustive cross-validation for inter-set distances measurement"
      ]
    },
    {
      "cell_type": "code",
      "metadata": {
        "id": "9T1gX4Y0nmT3"
      },
      "source": [
        "loo = LeaveOneOut()\n",
        "loo.get_n_splits(np.arange(num_samples))\n",
        "sets_inter = np.zeros((num_samples, len(metrics_list), num_samples))\n",
        "\n",
        "for i in range(len(metrics_list)):\n",
        "    for train_index, test_index in loo.split(np.arange(num_samples)):\n",
        "        # print(test_index)\n",
        "        sets_inter[test_index[0]][i] = utils.c_dist(set1_eval[metrics_list[i]][test_index], set2_eval[metrics_list[i]])\n"
      ],
      "execution_count": null,
      "outputs": []
    },
    {
      "cell_type": "markdown",
      "metadata": {
        "id": "w5q2CYdtnmT3"
      },
      "source": [
        "visualization of intra-set and inter-set distances"
      ]
    },
    {
      "cell_type": "code",
      "metadata": {
        "colab": {
          "base_uri": "https://localhost:8080/",
          "height": 312
        },
        "id": "71G5qcvLnmT4",
        "outputId": "f26b8942-a622-4556-9729-71159038fc3c"
      },
      "source": [
        "plot_set1_intra = np.transpose(set1_intra,(1, 0, 2)).reshape(len(metrics_list), -1)\n",
        "print(plot_set1_intra)\n",
        "plot_set2_intra = np.transpose(set2_intra,(1, 0, 2)).reshape(len(metrics_list), -1)\n",
        "plot_sets_inter = np.transpose(sets_inter,(1, 0, 2)).reshape(len(metrics_list), -1)\n",
        "for i in range(0,len(metrics_list)):\n",
        "    sns.kdeplot(plot_set1_intra[i], label='1.0')\n",
        "    sns.kdeplot(plot_sets_inter[i], label='inter')\n",
        "    sns.kdeplot(plot_set2_intra[i], label='1.5')\n",
        "    # sns.kdeplot(backup[i], label='1.3')\n",
        "\n",
        "    plt.title(metrics_list[i])\n",
        "    plt.xlabel('Euclidean distance')\n",
        "    plt.show()"
      ],
      "execution_count": null,
      "outputs": [
        {
          "output_type": "stream",
          "name": "stdout",
          "text": [
            "[[0.16731771 0.15577925 0.00221076 ... 0.04582978 0.03637127 0.07171166]]\n"
          ]
        },
        {
          "output_type": "display_data",
          "data": {
            "image/png": "[encoded data removed]",
            "text/plain": [
              "<Figure size 432x288 with 1 Axes>"
            ]
          },
          "metadata": {
            "needs_background": "light"
          }
        }
      ]
    },
    {
      "cell_type": "markdown",
      "metadata": {
        "id": "vWE3kJJCnmT4"
      },
      "source": [
        "the difference of intra-set and inter-set distances."
      ]
    },
    {
      "cell_type": "code",
      "metadata": {
        "colab": {
          "base_uri": "https://localhost:8080/"
        },
        "id": "JNqZd2F5nmT5",
        "outputId": "aab29ab8-686d-4384-a47c-5c621fb07ab7"
      },
      "source": [
        "for i in range(0, len(metrics_list)):\n",
        "    print(metrics_list[i] + ':')\n",
        "    print('------------------------')\n",
        "    print(' demo_set1')\n",
        "    print('  Kullback–Leibler divergence:',utils.kl_dist(plot_set1_intra[i], plot_sets_inter[i]))\n",
        "    print(plot_set1_intra[i])\n",
        "    print(plot_set2_intra[i])\n",
        "\n",
        "    print('  Overlap area:', utils.overlap_area(plot_set1_intra[i], plot_sets_inter[i]))\n",
        "    \n",
        "    print(' demo_set2')\n",
        "    print('  Kullback–Leibler divergence:',utils.kl_dist(plot_set2_intra[i], plot_sets_inter[i]))\n",
        "    print('  Overlap area:', utils.overlap_area(plot_set2_intra[i], plot_sets_inter[i]))\n",
        "    "
      ],
      "execution_count": null,
      "outputs": [
        {
          "output_type": "stream",
          "name": "stdout",
          "text": [
            "avg_IOI:\n",
            "------------------------\n",
            " demo_set1\n",
            "  Kullback–Leibler divergence: 0.0084161561739973\n",
            "[0.16731771 0.15577925 0.00221076 ... 0.04582978 0.03637127 0.07171166]\n",
            "[0.00413328 0.0039589  0.0259324  ... 0.07431373 0.0641433  0.1284647 ]\n"
          ]
        },
        {
          "output_type": "stream",
          "name": "stderr",
          "text": [
            "/content/mgeval/mgeval/utils.py:18: IntegrationWarning: The maximum number of subdivisions (50) has been achieved.\n",
            "  If increasing the limit yields no improvement it is advised to analyze \n",
            "  the integrand in order to determine the difficulties.  If the position of a \n",
            "  local difficulty can be determined (singularity, discontinuity) one will \n",
            "  probably gain from splitting up the interval and calling the integrator \n",
            "  on the subranges.  Perhaps a special-purpose integrator should be used.\n",
            "  return integrate.quad(lambda x: min(pdf_A(x), pdf_B(x)), np.min((np.min(A), np.min(B))), np.max((np.max(A), np.max(B))))[0]\n"
          ]
        },
        {
          "output_type": "stream",
          "name": "stdout",
          "text": [
            "  Overlap area: 0.9213056272585075\n",
            " demo_set2\n",
            "  Kullback–Leibler divergence: 0.014274713433328139\n",
            "  Overlap area: 0.7627499711059651\n"
          ]
        }
      ]
    },
    {
      "cell_type": "code",
      "metadata": {
        "colab": {
          "base_uri": "https://localhost:8080/",
          "height": 131
        },
        "id": "o5D5iTudnmT5",
        "outputId": "a0d796a2-d58a-484a-9bf2-8e86c6d2b292"
      },
      "source": [
        "for i in range(0,len(metrics_list)):\n"
      ],
      "execution_count": null,
      "outputs": [
        {
          "output_type": "error",
          "ename": "SyntaxError",
          "evalue": "ignored",
          "traceback": [
            "\u001b[0;36m  File \u001b[0;32m\"<ipython-input-77-40993aef4e02>\"\u001b[0;36m, line \u001b[0;32m1\u001b[0m\n\u001b[0;31m    for i in range(0,len(metrics_list)):\u001b[0m\n\u001b[0m                                        ^\u001b[0m\n\u001b[0;31mSyntaxError\u001b[0m\u001b[0;31m:\u001b[0m unexpected EOF while parsing\n"
          ]
        }
      ]
    }
  ]
}