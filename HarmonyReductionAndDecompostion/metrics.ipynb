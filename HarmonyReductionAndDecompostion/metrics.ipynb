{
  "nbformat": 4,
  "nbformat_minor": 0,
  "metadata": {
    "kernelspec": {
      "display_name": "Python 3",
      "language": "python",
      "name": "python3"
    },
    "language_info": {
      "codemirror_mode": {
        "name": "ipython",
        "version": 3
      },
      "file_extension": ".py",
      "mimetype": "text/x-python",
      "name": "python",
      "nbconvert_exporter": "python",
      "pygments_lexer": "ipython3",
      "version": "3.8.3"
    },
    "colab": {
      "name": "metrics.ipynb",
      "provenance": [],
      "collapsed_sections": [],
      "include_colab_link": true
    }
  },
  "cells": [
    {
      "cell_type": "markdown",
      "metadata": {
        "id": "view-in-github",
        "colab_type": "text"
      },
      "source": [
        "<a href=\"https://colab.research.google.com/github/jmhuer/Fall2021MusicResearch/blob/main/HarmonyReductionAndDecompostion/metrics.ipynb\" target=\"_parent\"><img src=\"https://colab.research.google.com/assets/colab-badge.svg\" alt=\"Open In Colab\"/></a>"
      ]
    },
    {
      "cell_type": "markdown",
      "metadata": {
        "id": "UPhtd6E_nmTm"
      },
      "source": [
        "# Usage Demo : \n"
      ]
    },
    {
      "cell_type": "code",
      "metadata": {
        "colab": {
          "base_uri": "https://localhost:8080/"
        },
        "id": "L35E7W84IEYJ",
        "outputId": "ae3d800a-444d-464c-95bc-bb3a1c1dcf3f"
      },
      "source": [
        "# !rm -r python3_midi/\n",
        "!sudo apt-get install libasound2-dev swig\n",
        "# !pip3 install git+https://github.com/vishnubob/python-midi@feature/python3\n",
        "!pip install git+https://github.com/vishnubob/python-midi@feature/python3\n",
        "!pip install pretty_midi\n",
        "!git clone https://github.com/jmhuer/mgeval\n"
      ],
      "execution_count": 2,
      "outputs": [
        {
          "output_type": "stream",
          "name": "stdout",
          "text": [
            "Reading package lists... Done\n",
            "Building dependency tree       \n",
            "Reading state information... Done\n",
            "libasound2-dev is already the newest version (1.1.3-5ubuntu0.6).\n",
            "Suggested packages:\n",
            "  swig-doc swig-examples swig3.0-examples swig3.0-doc\n",
            "The following NEW packages will be installed:\n",
            "  swig swig3.0\n",
            "0 upgraded, 2 newly installed, 0 to remove and 37 not upgraded.\n",
            "Need to get 1,100 kB of archives.\n",
            "After this operation, 5,822 kB of additional disk space will be used.\n",
            "Get:1 http://archive.ubuntu.com/ubuntu bionic/universe amd64 swig3.0 amd64 3.0.12-1 [1,094 kB]\n",
            "Get:2 http://archive.ubuntu.com/ubuntu bionic/universe amd64 swig amd64 3.0.12-1 [6,460 B]\n",
            "Fetched 1,100 kB in 1s (1,276 kB/s)\n",
            "debconf: unable to initialize frontend: Dialog\n",
            "debconf: (No usable dialog-like program is installed, so the dialog based frontend cannot be used. at /usr/share/perl5/Debconf/FrontEnd/Dialog.pm line 76, <> line 2.)\n",
            "debconf: falling back to frontend: Readline\n",
            "debconf: unable to initialize frontend: Readline\n",
            "debconf: (This frontend requires a controlling tty.)\n",
            "debconf: falling back to frontend: Teletype\n",
            "dpkg-preconfigure: unable to re-open stdin: \n",
            "Selecting previously unselected package swig3.0.\n",
            "(Reading database ... 155219 files and directories currently installed.)\n",
            "Preparing to unpack .../swig3.0_3.0.12-1_amd64.deb ...\n",
            "Unpacking swig3.0 (3.0.12-1) ...\n",
            "Selecting previously unselected package swig.\n",
            "Preparing to unpack .../swig_3.0.12-1_amd64.deb ...\n",
            "Unpacking swig (3.0.12-1) ...\n",
            "Setting up swig3.0 (3.0.12-1) ...\n",
            "Setting up swig (3.0.12-1) ...\n",
            "Processing triggers for man-db (2.8.3-2ubuntu0.1) ...\n",
            "Collecting git+https://github.com/vishnubob/python-midi@feature/python3\n",
            "  Cloning https://github.com/vishnubob/python-midi (to revision feature/python3) to /tmp/pip-req-build-8qo1cmr6\n",
            "  Running command git clone -q https://github.com/vishnubob/python-midi /tmp/pip-req-build-8qo1cmr6\n",
            "  Running command git checkout -b feature/python3 --track origin/feature/python3\n",
            "  Switched to a new branch 'feature/python3'\n",
            "  Branch 'feature/python3' set up to track remote branch 'feature/python3' from 'origin'.\n",
            "Building wheels for collected packages: midi\n",
            "  Building wheel for midi (setup.py) ... \u001b[?25l\u001b[?25hdone\n",
            "  Created wheel for midi: filename=midi-0.2.3-cp37-cp37m-linux_x86_64.whl size=281276 sha256=d05a01ecb2d72970cb7cc0f9363e49f32ea5da84a3c59a64e357590ef955e732\n",
            "  Stored in directory: /tmp/pip-ephem-wheel-cache-u0oxyiwq/wheels/31/42/68/b7b99ce373ff4c2ef140f869eeb0b3c5297c64a2ac16b5dc88\n",
            "Successfully built midi\n",
            "Installing collected packages: midi\n",
            "Successfully installed midi-0.2.3\n",
            "Collecting pretty_midi\n",
            "  Downloading pretty_midi-0.2.9.tar.gz (5.6 MB)\n",
            "\u001b[K     |████████████████████████████████| 5.6 MB 4.6 MB/s \n",
            "\u001b[?25hRequirement already satisfied: numpy>=1.7.0 in /usr/local/lib/python3.7/dist-packages (from pretty_midi) (1.19.5)\n",
            "Collecting mido>=1.1.16\n",
            "  Downloading mido-1.2.10-py2.py3-none-any.whl (51 kB)\n",
            "\u001b[K     |████████████████████████████████| 51 kB 6.2 MB/s \n",
            "\u001b[?25hRequirement already satisfied: six in /usr/local/lib/python3.7/dist-packages (from pretty_midi) (1.15.0)\n",
            "Building wheels for collected packages: pretty-midi\n",
            "  Building wheel for pretty-midi (setup.py) ... \u001b[?25l\u001b[?25hdone\n",
            "  Created wheel for pretty-midi: filename=pretty_midi-0.2.9-py3-none-any.whl size=5591953 sha256=79ce18ff0091ef53644ec1e42b94f5afb893c220ea6f3b9e882a2e735c95ae61\n",
            "  Stored in directory: /root/.cache/pip/wheels/ad/74/7c/a06473ca8dcb63efb98c1e67667ce39d52100f837835ea18fa\n",
            "Successfully built pretty-midi\n",
            "Installing collected packages: mido, pretty-midi\n",
            "Successfully installed mido-1.2.10 pretty-midi-0.2.9\n",
            "Cloning into 'mgeval'...\n",
            "remote: Enumerating objects: 140, done.\u001b[K\n",
            "remote: Counting objects: 100% (3/3), done.\u001b[K\n",
            "remote: Compressing objects: 100% (3/3), done.\u001b[K\n",
            "remote: Total 140 (delta 0), reused 2 (delta 0), pack-reused 137\u001b[K\n",
            "Receiving objects: 100% (140/140), 138.41 KiB | 3.46 MiB/s, done.\n",
            "Resolving deltas: 100% (54/54), done.\n"
          ]
        }
      ]
    },
    {
      "cell_type": "code",
      "metadata": {
        "id": "KNCV-LaBnmTq"
      },
      "source": [
        "import midi\n",
        "import glob\n",
        "import numpy as np\n",
        "import pretty_midi\n",
        "import seaborn as sns\n",
        "import matplotlib.pyplot as plt\n",
        "from mgeval.mgeval import core, utils\n",
        "from sklearn.model_selection import LeaveOneOut"
      ],
      "execution_count": 418,
      "outputs": []
    },
    {
      "cell_type": "code",
      "metadata": {
        "id": "JoZedAu9Hd0Q"
      },
      "source": [
        "# # %cd autoharmonyresults/rules/\n",
        "# !unzip autoharmonyresults/rules/\"*.zip\" -d autoharmonyresults/rules/\n",
        "# !unzip autoharmonyresults/kwtalifetime/\"*.zip\" -d autoharmonyresults/kwtalifetime/\n",
        "# !unzip autoharmonyresults/ordinary/\"*.zip\" -d autoharmonyresults/ordinary/\n",
        "# !unzip autoharmonyresults/kwta/\"*.zip\" -d autoharmonyresults/kwta/\n",
        "\n",
        "# # !unzip /content/1.3kwta.zip\n",
        "# # !unzip /content/1.5kwta.zip\n",
        "# # !unzip /content/autoharmonyresults.zip\n",
        "# # !unzip /content/.zip"
      ],
      "execution_count": 419,
      "outputs": []
    },
    {
      "cell_type": "markdown",
      "metadata": {
        "id": "isgA8H8znmTs"
      },
      "source": [
        "## Absolute measurement: statistic analysis\n"
      ]
    },
    {
      "cell_type": "markdown",
      "metadata": {
        "id": "EjRdUdRPnmTt"
      },
      "source": [
        "Assign dataset path"
      ]
    },
    {
      "cell_type": "code",
      "metadata": {
        "id": "DGD2x2-6wBrS"
      },
      "source": [
        "# !mv /content/autoharmonyresults/ordinary/0.3kwta/* /content/ordinary/\n",
        "# !mv /content/autoharmonyresults/ordinary/0.5kwta/* /content/ordinary/\n",
        "# !mv /content/autoharmonyresults/ordinary/0.7kwta/* /content/ordinary/\n",
        "# !mv /content/autoharmonyresults/ordinary/1.3kwta/* /content/ordinary/\n",
        "# !mv /content/autoharmonyresults/ordinary/1.5kwta/* /content/ordinary/\n",
        "# !mv /content/autoharmonyresults/ordinary/1.9kwta/* /content/ordinary/\n",
        "\n",
        "\n",
        "# !mv /content/autoharmonyresults/rules/0.3rules/* /content/rules/\n",
        "# !mv /content/autoharmonyresults/rules/0.5rules/* /content/rules/\n",
        "# !mv /content/autoharmonyresults/rules/0.7rules/* /content/rules/\n",
        "# !mv /content/autoharmonyresults/rules/1.3rules/* /content/rules/\n",
        "# !mv /content/autoharmonyresults/rules/1.5rules/* /content/rules/\n",
        "# !mv /content/autoharmonyresults/rules/1.9rules/* /content/rules/\n",
        "\n"
      ],
      "execution_count": 468,
      "outputs": []
    },
    {
      "cell_type": "markdown",
      "metadata": {
        "id": "L4caxUY8zEGN"
      },
      "source": [
        "#Eval features\n"
      ]
    },
    {
      "cell_type": "code",
      "metadata": {
        "id": "6kl8uxm64ni1"
      },
      "source": [
        "feature1 = \"total_used_pitch\""
      ],
      "execution_count": 775,
      "outputs": []
    },
    {
      "cell_type": "markdown",
      "metadata": {
        "id": "ivzpgJaQNx1N"
      },
      "source": [
        "original data"
      ]
    },
    {
      "cell_type": "code",
      "metadata": {
        "colab": {
          "base_uri": "https://localhost:8080/"
        },
        "id": "QzcXE3mCNlec",
        "outputId": "ac247187-cf82-4564-b4fe-b7ed4a415d66"
      },
      "source": [
        "set0 = glob.glob('/content/autoharmonyresults/kwtalifetime/1kwta/*')\n",
        "# set0 = glob.glob('/content/original/*')\n",
        "\n",
        "num_samples = len(set0)\n",
        "set_eval0 = {feature1:np.zeros((num_samples,1))}\n",
        "print(num_samples)\n",
        "\n",
        "metrics_list = list(set_eval0.keys())\n",
        "for i in range(0, num_samples):\n",
        "    feature = core.extract_feature(set0[i])\n",
        "    set_eval0[metrics_list[0]][i] = getattr(core.metrics(), metrics_list[0])(feature)"
      ],
      "execution_count": 776,
      "outputs": [
        {
          "output_type": "stream",
          "name": "stdout",
          "text": [
            "280\n"
          ]
        }
      ]
    },
    {
      "cell_type": "code",
      "metadata": {
        "id": "eZIuesILnmTw",
        "colab": {
          "base_uri": "https://localhost:8080/"
        },
        "outputId": "b6f0f8cb-4ae3-47e4-b332-0d6cb997e5d2"
      },
      "source": [
        "set1 = glob.glob('/content/autoharmonyresults/kwta/1.5kwta/*')\n",
        "# set1 = glob.glob('/content/kwta/*')\n",
        "\n",
        "num_samples = len(set1)\n",
        "set_eval1 = {feature1:np.zeros((num_samples,1))}\n",
        "print(num_samples)\n",
        "\n",
        "metrics_list = list(set_eval1.keys())\n",
        "for i in range(0, num_samples):\n",
        "    feature = core.extract_feature(set1[i])\n",
        "    set_eval1[metrics_list[0]][i] = getattr(core.metrics(), metrics_list[0])(feature)"
      ],
      "execution_count": 777,
      "outputs": [
        {
          "output_type": "stream",
          "name": "stdout",
          "text": [
            "280\n"
          ]
        }
      ]
    },
    {
      "cell_type": "markdown",
      "metadata": {
        "id": "WUJ-dxxRnmTx"
      },
      "source": [
        "repeat for second dataset"
      ]
    },
    {
      "cell_type": "code",
      "metadata": {
        "id": "TlFDgPusnmTy",
        "colab": {
          "base_uri": "https://localhost:8080/"
        },
        "outputId": "617dd0ee-138b-4b9e-cdcc-38a0d5e608eb"
      },
      "source": [
        "set2 = glob.glob('/content/autoharmonyresults/rules/1.9rules/*')\n",
        "# set2 = glob.glob('/content/rules/*')\n",
        "\n",
        "num_samples = len(set2)\n",
        "set_eval2 = {feature1:np.zeros((num_samples,1))}\n",
        "print(num_samples)\n",
        "\n",
        "\n",
        "metrics_list = list(set_eval2.keys())\n",
        "for i in range(0, num_samples):\n",
        "    feature = core.extract_feature(set2[i])\n",
        "    set_eval2[metrics_list[0]][i] = getattr(core.metrics(), metrics_list[0])(feature)"
      ],
      "execution_count": 778,
      "outputs": [
        {
          "output_type": "stream",
          "name": "stdout",
          "text": [
            "280\n"
          ]
        }
      ]
    },
    {
      "cell_type": "markdown",
      "metadata": {
        "id": "KjTby8VIyn7n"
      },
      "source": [
        "repeat for thirds dataset"
      ]
    },
    {
      "cell_type": "code",
      "metadata": {
        "colab": {
          "base_uri": "https://localhost:8080/"
        },
        "id": "GB5cE7GoylLd",
        "outputId": "eb073a54-3f55-4787-a4d2-32436aef2de3"
      },
      "source": [
        "set3 = glob.glob('/content/autoharmonyresults/kwtalifetime/1.5kwta/*')\n",
        "# set3 = glob.glob('/content/kwtalifetime/*')\n",
        "\n",
        "num_samples = len(set3)\n",
        "set_eval3 = {feature1:np.zeros((num_samples,1))}\n",
        "print(num_samples)\n",
        "\n",
        "metrics_list = list(set_eval3.keys())\n",
        "for i in range(0, num_samples):\n",
        "    feature = core.extract_feature(set3[i])\n",
        "    set_eval3[metrics_list[0]][i] = getattr(core.metrics(), metrics_list[0])(feature)"
      ],
      "execution_count": 779,
      "outputs": [
        {
          "output_type": "stream",
          "name": "stdout",
          "text": [
            "280\n"
          ]
        }
      ]
    },
    {
      "cell_type": "markdown",
      "metadata": {
        "id": "qAw3okVIy-Ks"
      },
      "source": [
        "repeat for fourth dataset"
      ]
    },
    {
      "cell_type": "code",
      "metadata": {
        "colab": {
          "base_uri": "https://localhost:8080/"
        },
        "id": "jGs-VnPwzCRH",
        "outputId": "5dc06aa8-5018-4668-f48e-36e1fba715cf"
      },
      "source": [
        "set4 = glob.glob('/content/autoharmonyresults/ordinary/1.5kwta/*')\n",
        "# set4 = glob.glob('/content/ordinary/*')\n",
        "\n",
        "num_samples = len(set4)\n",
        "set_eval4 = {feature1:np.zeros((num_samples,1))}\n",
        "print(num_samples)\n",
        "\n",
        "metrics_list = list(set_eval4.keys())\n",
        "for i in range(0, num_samples):\n",
        "    feature = core.extract_feature(set4[i])\n",
        "    set_eval4[metrics_list[0]][i] = getattr(core.metrics(), metrics_list[0])(feature)"
      ],
      "execution_count": 780,
      "outputs": [
        {
          "output_type": "stream",
          "name": "stdout",
          "text": [
            "280\n"
          ]
        }
      ]
    },
    {
      "cell_type": "markdown",
      "metadata": {
        "id": "1JZ4Xu4z02vy"
      },
      "source": [
        "#statistic analysis: absolute measurement"
      ]
    },
    {
      "cell_type": "code",
      "metadata": {
        "colab": {
          "base_uri": "https://localhost:8080/"
        },
        "id": "uCq3Ki2MnmTz",
        "outputId": "2521dd5e-dcb7-42dc-d7d0-a0682ca13b1e"
      },
      "source": [
        "print(len(metrics_list))\n",
        "\n",
        "for i in range(0, len(metrics_list)):\n",
        "    print(metrics_list[i] + ':')\n",
        "    \n",
        "    print('------------------------')\n",
        "    print(' demo_set0')\n",
        "    print('  mean: ', np.mean(set_eval0[metrics_list[i]], axis=0))\n",
        "    print('  std: ', np.std(set_eval0[metrics_list[i]], axis=0))\n",
        "\n",
        "    print('------------------------')\n",
        "    print(' demo_set1')\n",
        "    print('  mean: ', np.mean(set_eval1[metrics_list[i]], axis=0))\n",
        "    print('  std: ', np.std(set_eval1[metrics_list[i]], axis=0))\n",
        "\n",
        "    print('------------------------')\n",
        "    print(' demo_set2')\n",
        "    print('  mean: ', np.mean(set_eval2[metrics_list[i]], axis=0))\n",
        "    print('  std: ', np.std(set_eval2[metrics_list[i]], axis=0))\n",
        "\n",
        "    print('------------------------')\n",
        "    print(' demo_set3')\n",
        "    print('  mean: ', np.mean(set_eval3[metrics_list[i]], axis=0))\n",
        "    print('  std: ', np.std(set_eval3[metrics_list[i]], axis=0))\n",
        "\n",
        "    print('------------------------')\n",
        "    print(' demo_set4')\n",
        "    print('  mean: ', np.mean(set_eval4[metrics_list[i]], axis=0))\n",
        "    print('  std: ', np.std(set_eval4[metrics_list[i]], axis=0))\n",
        "\n"
      ],
      "execution_count": 781,
      "outputs": [
        {
          "output_type": "stream",
          "name": "stdout",
          "text": [
            "1\n",
            "total_used_pitch:\n",
            "------------------------\n",
            " demo_set0\n",
            "  mean:  [27.06785714]\n",
            "  std:  [6.65091581]\n",
            "------------------------\n",
            " demo_set1\n",
            "  mean:  [32.61428571]\n",
            "  std:  [7.0153767]\n",
            "------------------------\n",
            " demo_set2\n",
            "  mean:  [38.92857143]\n",
            "  std:  [7.33790828]\n",
            "------------------------\n",
            " demo_set3\n",
            "  mean:  [31.89285714]\n",
            "  std:  [6.79200836]\n",
            "------------------------\n",
            " demo_set4\n",
            "  mean:  [33.16785714]\n",
            "  std:  [7.01506306]\n"
          ]
        }
      ]
    },
    {
      "cell_type": "markdown",
      "metadata": {
        "id": "30Dfb1DqnmT1"
      },
      "source": [
        "## Relative measurement: generalizes the result among features with various dimensions\n"
      ]
    },
    {
      "cell_type": "markdown",
      "metadata": {
        "id": "u7prYdTmnmT1"
      },
      "source": [
        "the features are sum- marized to \n",
        "- the intra-set distances\n",
        "- the difference of intra-set and inter-set distances."
      ]
    },
    {
      "cell_type": "markdown",
      "metadata": {
        "id": "ma49EzYnnmT2"
      },
      "source": [
        "#exhaustive cross-validation for intra-set distances measurement"
      ]
    },
    {
      "cell_type": "markdown",
      "metadata": {
        "id": "47O11fhU2q-x"
      },
      "source": [
        "#requires same number samples per folder\n"
      ]
    },
    {
      "cell_type": "code",
      "metadata": {
        "id": "3Pf4Cz1rnmT2"
      },
      "source": [
        "loo = LeaveOneOut()\n",
        "loo.get_n_splits(np.arange(num_samples))\n",
        "set0_intra = np.zeros((num_samples, len(metrics_list), num_samples-1))\n",
        "set1_intra = np.zeros((num_samples, len(metrics_list), num_samples-1))\n",
        "set2_intra = np.zeros((num_samples, len(metrics_list), num_samples-1))\n",
        "set3_intra = np.zeros((num_samples, len(metrics_list), num_samples-1))\n",
        "set4_intra = np.zeros((num_samples, len(metrics_list), num_samples-1))\n",
        "\n",
        "for i in range(len(metrics_list)):\n",
        "    for train_index, test_index in loo.split(np.arange(num_samples)):\n",
        "        # print(train_index)\n",
        "        set0_intra[test_index[0]][i] = utils.c_dist(set_eval0[metrics_list[i]][test_index], set_eval0[metrics_list[i]][train_index])\n",
        "        set1_intra[test_index[0]][i] = utils.c_dist(set_eval1[metrics_list[i]][test_index], set_eval1[metrics_list[i]][train_index])\n",
        "        set2_intra[test_index[0]][i] = utils.c_dist(set_eval2[metrics_list[i]][test_index], set_eval2[metrics_list[i]][train_index])\n",
        "        set3_intra[test_index[0]][i] = utils.c_dist(set_eval3[metrics_list[i]][test_index], set_eval3[metrics_list[i]][train_index])\n",
        "        set4_intra[test_index[0]][i] = utils.c_dist(set_eval4[metrics_list[i]][test_index], set_eval4[metrics_list[i]][train_index])\n",
        "\n"
      ],
      "execution_count": 782,
      "outputs": []
    },
    {
      "cell_type": "markdown",
      "metadata": {
        "id": "8VAO5YQhnmT3"
      },
      "source": [
        "exhaustive cross-validation for inter-set distances measurement"
      ]
    },
    {
      "cell_type": "markdown",
      "metadata": {
        "id": "s2HKsbAc4g4g"
      },
      "source": [
        "#sets_inter "
      ]
    },
    {
      "cell_type": "code",
      "metadata": {
        "id": "9T1gX4Y0nmT3"
      },
      "source": [
        "loo = LeaveOneOut()\n",
        "loo.get_n_splits(np.arange(num_samples))\n",
        "sets_inter0 = np.zeros((num_samples, len(metrics_list), num_samples))\n",
        "sets_inter1 = np.zeros((num_samples, len(metrics_list), num_samples))\n",
        "sets_inter2 = np.zeros((num_samples, len(metrics_list), num_samples))\n",
        "sets_inter3 = np.zeros((num_samples, len(metrics_list), num_samples))\n",
        "\n",
        "for i in range(len(metrics_list)):\n",
        "    for train_index, test_index in loo.split(np.arange(num_samples)):\n",
        "        # print(test_index)\n",
        "        sets_inter0[test_index[0]][i] = utils.c_dist(set_eval0[metrics_list[i]][test_index], set_eval1[metrics_list[i]])\n",
        "        sets_inter1[test_index[0]][i] = utils.c_dist(set_eval0[metrics_list[i]][test_index], set_eval2[metrics_list[i]])\n",
        "        sets_inter2[test_index[0]][i] = utils.c_dist(set_eval0[metrics_list[i]][test_index], set_eval3[metrics_list[i]])\n",
        "        sets_inter3[test_index[0]][i] = utils.c_dist(set_eval0[metrics_list[i]][test_index], set_eval4[metrics_list[i]])\n"
      ],
      "execution_count": 783,
      "outputs": []
    },
    {
      "cell_type": "code",
      "metadata": {
        "id": "FQDclyLsfoXP",
        "outputId": "581bf7dc-4de4-40dc-f01e-80bace48c3df",
        "colab": {
          "base_uri": "https://localhost:8080/"
        }
      },
      "source": [
        "#mean\n",
        "print(np.mean(plot_set0_intra[i]))\n",
        "print(np.mean(plot_set1_intra[i]))\n",
        "print(np.mean(plot_set2_intra[i]))\n",
        "print(np.mean(plot_set3_intra[i]), \"\\n\")\n",
        "#std\n",
        "print(np.std(plot_set0_intra[i]))\n",
        "print(np.std(plot_set1_intra[i]))\n",
        "print(np.std(plot_set2_intra[i]))\n",
        "print(np.std(plot_set3_intra[i]))"
      ],
      "execution_count": 790,
      "outputs": [
        {
          "output_type": "stream",
          "name": "stdout",
          "text": [
            "7.5340757808499745\n",
            "7.915616999487967\n",
            "8.290117767537122\n",
            "7.649411162314388 \n",
            "\n",
            "5.658989208475377\n",
            "6.010559647976388\n",
            "6.272936174578833\n",
            "5.837803940730007\n"
          ]
        }
      ]
    },
    {
      "cell_type": "markdown",
      "metadata": {
        "id": "w5q2CYdtnmT3"
      },
      "source": [
        "visualization of intra-set and inter-set distances\n",
        "\n",
        "\n",
        "\n",
        "*   inter-set we compare 1 sample from harmny transofmotaion data with all others from original data \n",
        "*   inter set is between the same dataset\n",
        "\n"
      ]
    },
    {
      "cell_type": "code",
      "metadata": {
        "colab": {
          "base_uri": "https://localhost:8080/",
          "height": 295
        },
        "id": "71G5qcvLnmT4",
        "outputId": "6162b6bb-0e97-4464-bce8-9e3dd1dfe907"
      },
      "source": [
        "plot_set0_intra = np.transpose(set0_intra,(1, 0, 2)).reshape(len(metrics_list), -1)\n",
        "plot_set1_intra = np.transpose(set1_intra,(1, 0, 2)).reshape(len(metrics_list), -1)\n",
        "plot_set2_intra = np.transpose(set2_intra,(1, 0, 2)).reshape(len(metrics_list), -1)\n",
        "plot_set3_intra = np.transpose(set3_intra,(1, 0, 2)).reshape(len(metrics_list), -1)\n",
        "plot_set4_intra = np.transpose(set4_intra,(1, 0, 2)).reshape(len(metrics_list), -1)\n",
        "\n",
        "plot_sets_inter0 = np.transpose(sets_inter0,(1, 0, 2)).reshape(len(metrics_list), -1)\n",
        "plot_sets_inter1 = np.transpose(sets_inter1,(1, 0, 2)).reshape(len(metrics_list), -1)\n",
        "plot_sets_inter2 = np.transpose(sets_inter2,(1, 0, 2)).reshape(len(metrics_list), -1)\n",
        "plot_sets_inter3 = np.transpose(sets_inter3,(1, 0, 2)).reshape(len(metrics_list), -1)\n",
        "\n",
        "for i in range(0,len(metrics_list)):\n",
        "    sns.kdeplot(plot_set0_intra[i], label='intra original', linestyle='--')\n",
        "    # sns.kdeplot(plot_set1_intra[i], label='lstmae')\n",
        "    # sns.kdeplot(plot_set2_intra[i], label='rules')\n",
        "    # # # sns.kdeplot(backup[i], label='1.3')\n",
        "    # sns.kdeplot(plot_set3_intra[i], label='kwtalifetime')\n",
        "    # sns.kdeplot(plot_set4_intra[i], label='kwta')\n",
        "    sns.kdeplot(plot_sets_inter0[i], label='inter lstmae')\n",
        "    sns.kdeplot(plot_sets_inter1[i], label='inter rules')\n",
        "    sns.kdeplot(plot_sets_inter2[i], label='inter kwtalifetime')\n",
        "    sns.kdeplot(plot_sets_inter3[i], label='inter kwta')\n",
        "    \n",
        "    plt.legend()\n",
        "    plt.title(metrics_list[i])\n",
        "    plt.xlabel('Euclidean distance')\n",
        "    plt.show()"
      ],
      "execution_count": 784,
      "outputs": [
        {
          "output_type": "display_data",
          "data": {
            "image/png": "[encoded data removed]",
            "text/plain": [
              "<Figure size 432x288 with 1 Axes>"
            ]
          },
          "metadata": {
            "needs_background": "light"
          }
        }
      ]
    },
    {
      "cell_type": "markdown",
      "metadata": {
        "id": "vWE3kJJCnmT4"
      },
      "source": [
        "the difference of intra-set and inter-set distances."
      ]
    },
    {
      "cell_type": "markdown",
      "metadata": {
        "id": "rfZ3f2rn4XnH"
      },
      "source": [
        "#Kullback–Leibler Divergence"
      ]
    },
    {
      "cell_type": "code",
      "metadata": {
        "colab": {
          "base_uri": "https://localhost:8080/"
        },
        "id": "JNqZd2F5nmT5",
        "outputId": "335b23ac-8022-4adc-be36-21c3c050957d"
      },
      "source": [
        "for i in range(0, len(metrics_list)):\n",
        "    print(metrics_list[i] + ':')\n",
        "    print('------------------------')\n",
        "    print(' demo_set1')\n",
        "    print('  Kullback–Leibler divergence:',utils.kl_dist(plot_set0_intra[i], plot_sets_inter0[i]))\n",
        "    print('  Overlap area:', utils.overlap_area(plot_set0_intra[i], plot_sets_inter0[i]))\n",
        "    \n",
        "    print(' demo_set2')\n",
        "    print('  Kullback–Leibler divergence:',utils.kl_dist(plot_set0_intra[i], plot_sets_inter1[i]))\n",
        "    print('  Overlap area:', utils.overlap_area(plot_set0_intra[i], plot_sets_inter1[i]))\n",
        "\n",
        "    print(' demo_set3')\n",
        "    print('  Kullback–Leibler divergence:',utils.kl_dist(plot_set0_intra[i], plot_sets_inter2[i]))\n",
        "    print('  Overlap area:', utils.overlap_area(plot_set0_intra[i], plot_sets_inter2[i]))\n",
        "\n",
        "    print(' demo_set4')\n",
        "    print('  Kullback–Leibler divergence:',utils.kl_dist(plot_set0_intra[i], plot_sets_inter3[i]))\n",
        "    print('  Overlap area:', utils.overlap_area(plot_set0_intra[i], plot_sets_inter3[i]))   "
      ],
      "execution_count": 791,
      "outputs": [
        {
          "output_type": "stream",
          "name": "stdout",
          "text": [
            "total_used_pitch:\n",
            "------------------------\n",
            " demo_set1\n",
            "  Kullback–Leibler divergence: 0.0006801178197351956\n",
            "  Overlap area: 0.8957286492387203\n",
            " demo_set2\n",
            "  Kullback–Leibler divergence: 0.07105154627960795\n",
            "  Overlap area: 0.6833360955860578\n",
            " demo_set3\n",
            "  Kullback–Leibler divergence: 0.0003647491809508504\n",
            "  Overlap area: 0.9168595342756171\n",
            " demo_set4\n",
            "  Kullback–Leibler divergence: 0.003873642514040255\n",
            "  Overlap area: 0.8759940480558963\n"
          ]
        }
      ]
    },
    {
      "cell_type": "code",
      "metadata": {
        "id": "mqHrwYuU4nVO"
      },
      "source": [
        "# import time \n",
        "\n",
        "# for i in range(1000):\n",
        "#   time.sleep(10)"
      ],
      "execution_count": null,
      "outputs": []
    }
  ]
}