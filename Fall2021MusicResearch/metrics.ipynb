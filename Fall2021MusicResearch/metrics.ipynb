{
  "nbformat": 4,
  "nbformat_minor": 0,
  "metadata": {
    "kernelspec": {
      "display_name": "Python 3",
      "language": "python",
      "name": "python3"
    },
    "language_info": {
      "codemirror_mode": {
        "name": "ipython",
        "version": 3
      },
      "file_extension": ".py",
      "mimetype": "text/x-python",
      "name": "python",
      "nbconvert_exporter": "python",
      "pygments_lexer": "ipython3",
      "version": "3.8.3"
    },
    "colab": {
      "name": "metrics.ipynb",
      "provenance": [],
      "collapsed_sections": [],
      "include_colab_link": true
    }
  },
  "cells": [
    {
      "cell_type": "markdown",
      "metadata": {
        "id": "view-in-github",
        "colab_type": "text"
      },
      "source": [
        "<a href=\"https://colab.research.google.com/github/jmhuer/Fall2021MusicResearch/blob/main/Fall2021MusicResearch/metrics.ipynb\" target=\"_parent\"><img src=\"https://colab.research.google.com/assets/colab-badge.svg\" alt=\"Open In Colab\"/></a>"
      ]
    },
    {
      "cell_type": "markdown",
      "metadata": {
        "id": "UPhtd6E_nmTm"
      },
      "source": [
        "# Usage Demo : \n"
      ]
    },
    {
      "cell_type": "code",
      "metadata": {
        "colab": {
          "base_uri": "https://localhost:8080/"
        },
        "id": "L35E7W84IEYJ",
        "outputId": "309714be-a96b-40d4-9624-93c49fe00827"
      },
      "source": [
        "# !rm -r python3_midi/\n",
        "!sudo apt-get install libasound2-dev swig\n",
        "# !pip3 install git+https://github.com/vishnubob/python-midi@feature/python3\n",
        "!pip install git+https://github.com/vishnubob/python-midi@feature/python3\n",
        "!pip install pretty_midi\n",
        "!git clone https://github.com/gregwinther/mgeval\n"
      ],
      "execution_count": 6,
      "outputs": [
        {
          "output_type": "stream",
          "name": "stdout",
          "text": [
            "Cloning into 'mgeval'...\n",
            "remote: Enumerating objects: 140, done.\u001b[K\n",
            "remote: Counting objects: 100% (3/3), done.\u001b[K\n",
            "remote: Compressing objects: 100% (3/3), done.\u001b[K\n",
            "remote: Total 140 (delta 0), reused 2 (delta 0), pack-reused 137\u001b[K\n",
            "Receiving objects: 100% (140/140), 138.41 KiB | 3.95 MiB/s, done.\n",
            "Resolving deltas: 100% (54/54), done.\n"
          ]
        }
      ]
    },
    {
      "cell_type": "code",
      "metadata": {
        "id": "KNCV-LaBnmTq"
      },
      "source": [
        "import midi\n",
        "import glob\n",
        "import numpy as np\n",
        "import pretty_midi\n",
        "import seaborn as sns\n",
        "import matplotlib.pyplot as plt\n",
        "from mgeval.mgeval import core, utils\n",
        "from sklearn.model_selection import LeaveOneOut"
      ],
      "execution_count": 7,
      "outputs": []
    },
    {
      "cell_type": "code",
      "metadata": {
        "id": "JoZedAu9Hd0Q"
      },
      "source": [
        "# !unzip /content/1.001kwta.zip \n",
        "# !unzip /content/1.3kwta.zip"
      ],
      "execution_count": 8,
      "outputs": []
    },
    {
      "cell_type": "markdown",
      "metadata": {
        "id": "isgA8H8znmTs"
      },
      "source": [
        "## Absolute measurement: statistic analysis\n"
      ]
    },
    {
      "cell_type": "markdown",
      "metadata": {
        "id": "EjRdUdRPnmTt"
      },
      "source": [
        "Assign dataset path"
      ]
    },
    {
      "cell_type": "code",
      "metadata": {
        "id": "5ANCDH8ynmTu"
      },
      "source": [
        "set1 = glob.glob('/content/1.001kwta/*.mid')"
      ],
      "execution_count": 9,
      "outputs": []
    },
    {
      "cell_type": "markdown",
      "metadata": {
        "id": "oncSxQ9mnmTu"
      },
      "source": [
        "construct empty dictionary to fill in measurement across samples"
      ]
    },
    {
      "cell_type": "code",
      "metadata": {
        "colab": {
          "base_uri": "https://localhost:8080/"
        },
        "id": "nCZ1g_ksnmTv",
        "outputId": "f58ac86f-4371-499a-d5d6-7347c6425f39"
      },
      "source": [
        "num_samples = len(set1)\n",
        "print(num_samples)"
      ],
      "execution_count": 10,
      "outputs": [
        {
          "output_type": "stream",
          "name": "stdout",
          "text": [
            "560\n"
          ]
        }
      ]
    },
    {
      "cell_type": "code",
      "metadata": {
        "id": "eZIuesILnmTw"
      },
      "source": [
        "set1_eval = {'total_used_pitch':np.zeros((num_samples,1))}\n",
        "metrics_list = list(set1_eval.keys())\n",
        "for i in range(0, num_samples):\n",
        "    feature = core.extract_feature(set1[i])\n",
        "    set1_eval[metrics_list[0]][i] = getattr(core.metrics(), metrics_list[0])(feature)"
      ],
      "execution_count": 11,
      "outputs": []
    },
    {
      "cell_type": "markdown",
      "metadata": {
        "id": "WUJ-dxxRnmTx"
      },
      "source": [
        "repeat for second dataset"
      ]
    },
    {
      "cell_type": "code",
      "metadata": {
        "id": "TlFDgPusnmTy"
      },
      "source": [
        "set2 = glob.glob('/content/1.3kwta/*.mid')\n",
        "set2_eval = {'total_used_pitch':np.zeros((num_samples,1))}\n",
        "for i in range(0, num_samples):\n",
        "    feature = core.extract_feature(set2[i])\n",
        "    set2_eval[metrics_list[0]][i] = getattr(core.metrics(), metrics_list[0])(feature)"
      ],
      "execution_count": 12,
      "outputs": []
    },
    {
      "cell_type": "markdown",
      "metadata": {
        "id": "iWdGiFrKnmTz"
      },
      "source": [
        "statistic analysis: absolute measurement"
      ]
    },
    {
      "cell_type": "code",
      "metadata": {
        "colab": {
          "base_uri": "https://localhost:8080/"
        },
        "id": "uCq3Ki2MnmTz",
        "outputId": "70c29f83-0145-445f-e426-ea3ff26a210d"
      },
      "source": [
        "print(len(metrics_list))\n",
        "\n",
        "for i in range(0, len(metrics_list)):\n",
        "    print(metrics_list[i] + ':')\n",
        "    print('------------------------')\n",
        "    print(' demo_set')\n",
        "    print('  mean: ', np.mean(set1_eval[metrics_list[i]], axis=0))\n",
        "    print('  std: ', np.std(set1_eval[metrics_list[i]], axis=0))\n",
        "\n",
        "    print('------------------------')\n",
        "    print(' demo_set')\n",
        "    print('  mean: ', np.mean(set2_eval[metrics_list[i]], axis=0))\n",
        "    print('  std: ', np.std(set2_eval[metrics_list[i]], axis=0))\n"
      ],
      "execution_count": 18,
      "outputs": [
        {
          "output_type": "stream",
          "name": "stdout",
          "text": [
            "1\n",
            "total_used_pitch:\n",
            "------------------------\n",
            " demo_set\n",
            "  mean:  [27.35178571]\n",
            "  std:  [6.58809779]\n",
            "------------------------\n",
            " demo_set\n",
            "  mean:  [30.30714286]\n",
            "  std:  [6.71740429]\n"
          ]
        }
      ]
    },
    {
      "cell_type": "markdown",
      "metadata": {
        "id": "30Dfb1DqnmT1"
      },
      "source": [
        "## Relative measurement: generalizes the result among features with various dimensions\n"
      ]
    },
    {
      "cell_type": "markdown",
      "metadata": {
        "id": "u7prYdTmnmT1"
      },
      "source": [
        "the features are sum- marized to \n",
        "- the intra-set distances\n",
        "- the difference of intra-set and inter-set distances."
      ]
    },
    {
      "cell_type": "markdown",
      "metadata": {
        "id": "ma49EzYnnmT2"
      },
      "source": [
        "exhaustive cross-validation for intra-set distances measurement"
      ]
    },
    {
      "cell_type": "code",
      "metadata": {
        "id": "3Pf4Cz1rnmT2"
      },
      "source": [
        "loo = LeaveOneOut()\n",
        "loo.get_n_splits(np.arange(num_samples))\n",
        "set1_intra = np.zeros((num_samples, len(metrics_list), num_samples-1))\n",
        "set2_intra = np.zeros((num_samples, len(metrics_list), num_samples-1))\n",
        "for i in range(len(metrics_list)):\n",
        "    for train_index, test_index in loo.split(np.arange(num_samples)):\n",
        "        # print(train_index)\n",
        "        set1_intra[test_index[0]][i] = utils.c_dist(set1_eval[metrics_list[i]][test_index], set1_eval[metrics_list[i]][train_index])\n",
        "        set2_intra[test_index[0]][i] = utils.c_dist(set2_eval[metrics_list[i]][test_index], set2_eval[metrics_list[i]][train_index])\n",
        "\n"
      ],
      "execution_count": 19,
      "outputs": []
    },
    {
      "cell_type": "markdown",
      "metadata": {
        "id": "8VAO5YQhnmT3"
      },
      "source": [
        "exhaustive cross-validation for inter-set distances measurement"
      ]
    },
    {
      "cell_type": "code",
      "metadata": {
        "id": "9T1gX4Y0nmT3"
      },
      "source": [
        "loo = LeaveOneOut()\n",
        "loo.get_n_splits(np.arange(num_samples))\n",
        "sets_inter = np.zeros((num_samples, len(metrics_list), num_samples))\n",
        "\n",
        "for i in range(len(metrics_list)):\n",
        "    for train_index, test_index in loo.split(np.arange(num_samples)):\n",
        "        # print(test_index)\n",
        "        sets_inter[test_index[0]][i] = utils.c_dist(set1_eval[metrics_list[i]][test_index], set2_eval[metrics_list[i]])\n"
      ],
      "execution_count": 22,
      "outputs": []
    },
    {
      "cell_type": "markdown",
      "metadata": {
        "id": "w5q2CYdtnmT3"
      },
      "source": [
        "visualization of intra-set and inter-set distances"
      ]
    },
    {
      "cell_type": "code",
      "metadata": {
        "colab": {
          "base_uri": "https://localhost:8080/",
          "height": 312
        },
        "id": "71G5qcvLnmT4",
        "outputId": "5e49f4b8-2ee3-4a43-9bd0-df5401feb44d"
      },
      "source": [
        "plot_set1_intra = np.transpose(set1_intra,(1, 0, 2)).reshape(len(metrics_list), -1)\n",
        "print(plot_set1_intra)\n",
        "plot_set2_intra = np.transpose(set2_intra,(1, 0, 2)).reshape(len(metrics_list), -1)\n",
        "plot_sets_inter = np.transpose(sets_inter,(1, 0, 2)).reshape(len(metrics_list), -1)\n",
        "for i in range(0,len(metrics_list)):\n",
        "    sns.kdeplot(plot_set1_intra[i], label='1.0')\n",
        "    sns.kdeplot(plot_sets_inter[i], label='inter')\n",
        "    sns.kdeplot(plot_set2_intra[i], label='1.5')\n",
        "    sns.kdeplot(backup[i], label='1.3')\n",
        "\n",
        "    plt.title(metrics_list[i])\n",
        "    plt.xlabel('Euclidean distance')\n",
        "    plt.show()"
      ],
      "execution_count": 24,
      "outputs": [
        {
          "output_type": "stream",
          "name": "stdout",
          "text": [
            "[[18.  9.  2. ...  1.  2. 10.]]\n"
          ]
        },
        {
          "output_type": "display_data",
          "data": {
            "image/png": "[encoded data removed]",
            "text/plain": [
              "<Figure size 432x288 with 1 Axes>"
            ]
          },
          "metadata": {
            "needs_background": "light"
          }
        }
      ]
    },
    {
      "cell_type": "markdown",
      "metadata": {
        "id": "vWE3kJJCnmT4"
      },
      "source": [
        "the difference of intra-set and inter-set distances."
      ]
    },
    {
      "cell_type": "code",
      "metadata": {
        "id": "JNqZd2F5nmT5"
      },
      "source": [
        "for i in range(0, len(metrics_list)):\n",
        "    print(metrics_list[i] + ':')\n",
        "    print('------------------------')\n",
        "    print(' demo_set1')\n",
        "    print('  Kullback–Leibler divergence:',utils.kl_dist(plot_set1_intra[i], plot_sets_inter[i]))\n",
        "    print(plot_set1_intra[i])\n",
        "    print(plot_set2_intra[i])\n",
        "\n",
        "    print('  Overlap area:', utils.overlap_area(plot_set1_intra[i], plot_sets_inter[i]))\n",
        "    \n",
        "    print(' demo_set2')\n",
        "    print('  Kullback–Leibler divergence:',utils.kl_dist(plot_set2_intra[i], plot_sets_inter[i]))\n",
        "    print('  Overlap area:', utils.overlap_area(plot_set2_intra[i], plot_sets_inter[i]))\n",
        "    "
      ],
      "execution_count": null,
      "outputs": []
    },
    {
      "cell_type": "code",
      "metadata": {
        "id": "o5D5iTudnmT5"
      },
      "source": [
        "for i in range(0,len(metrics_list)):\n"
      ],
      "execution_count": null,
      "outputs": []
    }
  ]
}