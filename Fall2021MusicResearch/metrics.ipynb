{
  "nbformat": 4,
  "nbformat_minor": 0,
  "metadata": {
    "kernelspec": {
      "display_name": "Python 3",
      "language": "python",
      "name": "python3"
    },
    "language_info": {
      "codemirror_mode": {
        "name": "ipython",
        "version": 3
      },
      "file_extension": ".py",
      "mimetype": "text/x-python",
      "name": "python",
      "nbconvert_exporter": "python",
      "pygments_lexer": "ipython3",
      "version": "3.8.3"
    },
    "colab": {
      "name": "metrics.ipynb",
      "provenance": [],
      "collapsed_sections": [],
      "include_colab_link": true
    }
  },
  "cells": [
    {
      "cell_type": "markdown",
      "metadata": {
        "id": "view-in-github",
        "colab_type": "text"
      },
      "source": [
        "<a href=\"https://colab.research.google.com/github/jmhuer/Fall2021MusicResearch/blob/main/Fall2021MusicResearch/metrics.ipynb\" target=\"_parent\"><img src=\"https://colab.research.google.com/assets/colab-badge.svg\" alt=\"Open In Colab\"/></a>"
      ]
    },
    {
      "cell_type": "markdown",
      "metadata": {
        "id": "UPhtd6E_nmTm"
      },
      "source": [
        "# Usage Demo : \n"
      ]
    },
    {
      "cell_type": "code",
      "metadata": {
        "colab": {
          "base_uri": "https://localhost:8080/",
          "height": 935
        },
        "id": "YowfxPBjnm5e",
        "outputId": "b0e36743-6251-4cea-bcba-c439c031b0e5"
      },
      "source": [
        "# !rm -r python3_midi/\n",
        "!sudo apt-get install libasound2-dev swig\n",
        "# !pip3 install git+https://github.com/vishnubob/python-midi@feature/python3\n",
        "!pip3 install git+https://github.com/vishnubob/python-midi@feature/python3"
      ],
      "execution_count": 22,
      "outputs": [
        {
          "output_type": "stream",
          "name": "stdout",
          "text": [
            "Reading package lists... Done\n",
            "Building dependency tree       \n",
            "Reading state information... Done\n",
            "libasound2-dev is already the newest version (1.1.3-5ubuntu0.6).\n",
            "Suggested packages:\n",
            "  swig-doc swig-examples swig3.0-examples swig3.0-doc\n",
            "The following NEW packages will be installed:\n",
            "  swig swig3.0\n",
            "0 upgraded, 2 newly installed, 0 to remove and 37 not upgraded.\n",
            "Need to get 1,100 kB of archives.\n",
            "After this operation, 5,822 kB of additional disk space will be used.\n",
            "Get:1 http://archive.ubuntu.com/ubuntu bionic/universe amd64 swig3.0 amd64 3.0.12-1 [1,094 kB]\n",
            "Get:2 http://archive.ubuntu.com/ubuntu bionic/universe amd64 swig amd64 3.0.12-1 [6,460 B]\n",
            "Fetched 1,100 kB in 1s (848 kB/s)\n",
            "debconf: unable to initialize frontend: Dialog\n",
            "debconf: (No usable dialog-like program is installed, so the dialog based frontend cannot be used. at /usr/share/perl5/Debconf/FrontEnd/Dialog.pm line 76, <> line 2.)\n",
            "debconf: falling back to frontend: Readline\n",
            "debconf: unable to initialize frontend: Readline\n",
            "debconf: (This frontend requires a controlling tty.)\n",
            "debconf: falling back to frontend: Teletype\n",
            "dpkg-preconfigure: unable to re-open stdin: \n",
            "Selecting previously unselected package swig3.0.\n",
            "(Reading database ... 155219 files and directories currently installed.)\n",
            "Preparing to unpack .../swig3.0_3.0.12-1_amd64.deb ...\n",
            "Unpacking swig3.0 (3.0.12-1) ...\n",
            "Selecting previously unselected package swig.\n",
            "Preparing to unpack .../swig_3.0.12-1_amd64.deb ...\n",
            "Unpacking swig (3.0.12-1) ...\n",
            "Setting up swig3.0 (3.0.12-1) ...\n",
            "Setting up swig (3.0.12-1) ...\n",
            "Processing triggers for man-db (2.8.3-2ubuntu0.1) ...\n",
            "Collecting git+https://github.com/vishnubob/python-midi@feature/python3\n",
            "  Cloning https://github.com/vishnubob/python-midi (to revision feature/python3) to /tmp/pip-req-build-in0modtd\n",
            "  Running command git clone --filter=blob:none -q https://github.com/vishnubob/python-midi /tmp/pip-req-build-in0modtd\n",
            "  Running command git checkout -b feature/python3 --track origin/feature/python3\n",
            "  Switched to a new branch 'feature/python3'\n",
            "  Branch 'feature/python3' set up to track remote branch 'feature/python3' from 'origin'.\n",
            "  Resolved https://github.com/vishnubob/python-midi to commit abb85028c97b433f74621be899a0b399cd100aaa\n",
            "  Preparing metadata (setup.py) ... \u001b[?25l\u001b[?25hdone\n",
            "Building wheels for collected packages: midi\n",
            "  Building wheel for midi (setup.py) ... \u001b[?25l\u001b[?25hdone\n",
            "  Created wheel for midi: filename=midi-0.2.3-cp37-cp37m-linux_x86_64.whl size=281273 sha256=327661fb768c6fae8c090688d71ffd45a2a6c74f163425388cad210ad6259e91\n",
            "  Stored in directory: /tmp/pip-ephem-wheel-cache-ix4uxfus/wheels/31/42/68/b7b99ce373ff4c2ef140f869eeb0b3c5297c64a2ac16b5dc88\n",
            "Successfully built midi\n",
            "Installing collected packages: midi\n",
            "Successfully installed midi-0.2.3\n",
            "\u001b[33mWARNING: Running pip as the 'root' user can result in broken permissions and conflicting behaviour with the system package manager. It is recommended to use a virtual environment instead: https://pip.pypa.io/warnings/venv\u001b[0m\n"
          ]
        },
        {
          "output_type": "display_data",
          "data": {
            "application/vnd.colab-display-data+json": {
              "pip_warning": {
                "packages": [
                  "midi"
                ]
              }
            }
          },
          "metadata": {}
        }
      ]
    },
    {
      "cell_type": "code",
      "metadata": {
        "colab": {
          "base_uri": "https://localhost:8080/"
        },
        "id": "bxPkcGkRn9K7",
        "outputId": "0036a774-1829-4683-9f9d-31cc8007ed21"
      },
      "source": [
        "# !unzip /content/reconstruction.zip"
      ],
      "execution_count": 2,
      "outputs": [
        {
          "output_type": "stream",
          "name": "stdout",
          "text": [
            "Archive:  /content/reconstruction.zip\n",
            "replace reconstruction/AERECUNSTRUCTION&O2.mid? [y]es, [n]o, [A]ll, [N]one, [r]ename: N\n"
          ]
        }
      ]
    },
    {
      "cell_type": "code",
      "metadata": {
        "colab": {
          "base_uri": "https://localhost:8080/"
        },
        "id": "WqNCwLvxnrzJ",
        "outputId": "655041bb-0f3c-4680-88b2-c47901f4383e"
      },
      "source": [
        "!git clone https://github.com/gregwinther/mgeval"
      ],
      "execution_count": 3,
      "outputs": [
        {
          "output_type": "stream",
          "name": "stdout",
          "text": [
            "fatal: destination path 'mgeval' already exists and is not an empty directory.\n"
          ]
        }
      ]
    },
    {
      "cell_type": "code",
      "metadata": {
        "id": "KNCV-LaBnmTq"
      },
      "source": [
        "import midi\n",
        "import glob\n",
        "import numpy as np\n",
        "import pretty_midi\n",
        "import seaborn as sns\n",
        "import matplotlib.pyplot as plt\n",
        "from mgeval.mgeval import core, utils\n",
        "from sklearn.model_selection import LeaveOneOut"
      ],
      "execution_count": 81,
      "outputs": []
    },
    {
      "cell_type": "markdown",
      "metadata": {
        "id": "isgA8H8znmTs"
      },
      "source": [
        "## Absolute measurement: statistic analysis\n"
      ]
    },
    {
      "cell_type": "markdown",
      "metadata": {
        "id": "EjRdUdRPnmTt"
      },
      "source": [
        "Assign dataset path"
      ]
    },
    {
      "cell_type": "code",
      "metadata": {
        "id": "5ANCDH8ynmTu"
      },
      "source": [
        "set1 = glob.glob('/content/original/*.mid')"
      ],
      "execution_count": 82,
      "outputs": []
    },
    {
      "cell_type": "markdown",
      "metadata": {
        "id": "oncSxQ9mnmTu"
      },
      "source": [
        "construct empty dictionary to fill in measurement across samples"
      ]
    },
    {
      "cell_type": "code",
      "metadata": {
        "colab": {
          "base_uri": "https://localhost:8080/"
        },
        "id": "nCZ1g_ksnmTv",
        "outputId": "a498000d-401b-4700-8868-924cf9abf292"
      },
      "source": [
        "num_samples = len(set1)\n",
        "print(num_samples)"
      ],
      "execution_count": 83,
      "outputs": [
        {
          "output_type": "stream",
          "name": "stdout",
          "text": [
            "4\n"
          ]
        }
      ]
    },
    {
      "cell_type": "code",
      "metadata": {
        "id": "eZIuesILnmTw"
      },
      "source": [
        "set1_eval = {'total_used_pitch':np.zeros((num_samples,1))}\n",
        "metrics_list = list(set1_eval.keys())\n",
        "for i in range(0, num_samples):\n",
        "    feature = core.extract_feature(set1[i])\n",
        "    set1_eval[metrics_list[0]][i] = getattr(core.metrics(), metrics_list[0])(feature)"
      ],
      "execution_count": 84,
      "outputs": []
    },
    {
      "cell_type": "markdown",
      "metadata": {
        "id": "WUJ-dxxRnmTx"
      },
      "source": [
        "repeat for second dataset"
      ]
    },
    {
      "cell_type": "code",
      "metadata": {
        "id": "TlFDgPusnmTy"
      },
      "source": [
        "set2 = glob.glob('/content/reconstruction/*.mid')\n",
        "set2_eval = {'total_used_pitch':np.zeros((num_samples,1))}\n",
        "for i in range(0, num_samples):\n",
        "    feature = core.extract_feature(set2[i])\n",
        "    set2_eval[metrics_list[0]][i] = getattr(core.metrics(), metrics_list[0])(feature)"
      ],
      "execution_count": 85,
      "outputs": []
    },
    {
      "cell_type": "markdown",
      "metadata": {
        "id": "iWdGiFrKnmTz"
      },
      "source": [
        "statistic analysis: absolute measurement"
      ]
    },
    {
      "cell_type": "code",
      "metadata": {
        "colab": {
          "base_uri": "https://localhost:8080/"
        },
        "id": "uCq3Ki2MnmTz",
        "outputId": "01bbe005-a473-41a8-bed7-a131972d8aa2"
      },
      "source": [
        "for i in range(0, len(metrics_list)):\n",
        "    print(metrics_list[i] + ':')\n",
        "    print('------------------------')\n",
        "    print(' demo_set')\n",
        "    print('  mean: ', np.mean(set1_eval[metrics_list[i]], axis=0))\n",
        "    print('  std: ', np.std(set1_eval[metrics_list[i]], axis=0))\n",
        "\n",
        "    print('------------------------')\n",
        "    print(' demo_set')\n",
        "    print('  mean: ', np.mean(set2_eval[metrics_list[i]], axis=0))\n",
        "    print('  std: ', np.std(set2_eval[metrics_list[i]], axis=0))\n"
      ],
      "execution_count": 86,
      "outputs": [
        {
          "output_type": "stream",
          "name": "stdout",
          "text": [
            "total_used_pitch:\n",
            "------------------------\n",
            " demo_set\n",
            "  mean:  [31.75]\n",
            "  std:  [1.08972474]\n",
            "------------------------\n",
            " demo_set\n",
            "  mean:  [37.25]\n",
            "  std:  [3.69966215]\n"
          ]
        }
      ]
    },
    {
      "cell_type": "markdown",
      "metadata": {
        "id": "30Dfb1DqnmT1"
      },
      "source": [
        "## Relative measurement: generalizes the result among features with various dimensions\n"
      ]
    },
    {
      "cell_type": "markdown",
      "metadata": {
        "id": "u7prYdTmnmT1"
      },
      "source": [
        "the features are sum- marized to \n",
        "- the intra-set distances\n",
        "- the difference of intra-set and inter-set distances."
      ]
    },
    {
      "cell_type": "markdown",
      "metadata": {
        "id": "ma49EzYnnmT2"
      },
      "source": [
        "exhaustive cross-validation for intra-set distances measurement"
      ]
    },
    {
      "cell_type": "code",
      "metadata": {
        "id": "3Pf4Cz1rnmT2"
      },
      "source": [
        "loo = LeaveOneOut()\n",
        "loo.get_n_splits(np.arange(num_samples))\n",
        "set1_intra = np.zeros((num_samples, len(metrics_list), num_samples-1))\n",
        "set2_intra = np.zeros((num_samples, len(metrics_list), num_samples-1))\n",
        "for i in range(len(metrics_list)):\n",
        "    for train_index, test_index in loo.split(np.arange(num_samples)):\n",
        "        set1_intra[test_index[0]][i] = utils.c_dist(set1_eval[metrics_list[i]][test_index], set1_eval[metrics_list[i]][train_index])\n",
        "        set2_intra[test_index[0]][i] = utils.c_dist(set2_eval[metrics_list[i]][test_index], set2_eval[metrics_list[i]][train_index])\n"
      ],
      "execution_count": 87,
      "outputs": []
    },
    {
      "cell_type": "markdown",
      "metadata": {
        "id": "8VAO5YQhnmT3"
      },
      "source": [
        "exhaustive cross-validation for inter-set distances measurement"
      ]
    },
    {
      "cell_type": "code",
      "metadata": {
        "id": "9T1gX4Y0nmT3"
      },
      "source": [
        "loo = LeaveOneOut()\n",
        "loo.get_n_splits(np.arange(num_samples))\n",
        "sets_inter = np.zeros((num_samples, len(metrics_list), num_samples))\n",
        "\n",
        "for i in range(len(metrics_list)):\n",
        "    for train_index, test_index in loo.split(np.arange(num_samples)):\n",
        "        sets_inter[test_index[0]][i] = utils.c_dist(set1_eval[metrics_list[i]][test_index], set2_eval[metrics_list[i]])"
      ],
      "execution_count": 88,
      "outputs": []
    },
    {
      "cell_type": "markdown",
      "metadata": {
        "id": "w5q2CYdtnmT3"
      },
      "source": [
        "visualization of intra-set and inter-set distances"
      ]
    },
    {
      "cell_type": "code",
      "metadata": {
        "colab": {
          "base_uri": "https://localhost:8080/",
          "height": 295
        },
        "id": "71G5qcvLnmT4",
        "outputId": "60ef1378-f545-4b30-86b4-891220d51576"
      },
      "source": [
        "plot_set1_intra = np.transpose(set1_intra,(1, 0, 2)).reshape(len(metrics_list), -1)\n",
        "plot_set2_intra = np.transpose(set2_intra,(1, 0, 2)).reshape(len(metrics_list), -1)\n",
        "plot_sets_inter = np.transpose(sets_inter,(1, 0, 2)).reshape(len(metrics_list), -1)\n",
        "for i in range(0,len(metrics_list)):\n",
        "    sns.kdeplot(plot_set1_intra[i], label='intra_set1')\n",
        "    sns.kdeplot(plot_sets_inter[i], label='inter')\n",
        "    sns.kdeplot(plot_set2_intra[i], label='intra_set2')\n",
        "\n",
        "    plt.title(metrics_list[i])\n",
        "    plt.xlabel('Euclidean distance')\n",
        "    plt.show()"
      ],
      "execution_count": 89,
      "outputs": [
        {
          "output_type": "display_data",
          "data": {
            "image/png": "[encoded data removed]",
            "text/plain": [
              "<Figure size 432x288 with 1 Axes>"
            ]
          },
          "metadata": {
            "needs_background": "light"
          }
        }
      ]
    },
    {
      "cell_type": "markdown",
      "metadata": {
        "id": "vWE3kJJCnmT4"
      },
      "source": [
        "the difference of intra-set and inter-set distances."
      ]
    },
    {
      "cell_type": "code",
      "metadata": {
        "colab": {
          "base_uri": "https://localhost:8080/"
        },
        "id": "JNqZd2F5nmT5",
        "outputId": "079edbcd-29af-4d00-e96e-6c6a2a6e194f"
      },
      "source": [
        "for i in range(0, len(metrics_list)):\n",
        "    print(metrics_list[i] + ':')\n",
        "    print('------------------------')\n",
        "    print(' demo_set1')\n",
        "    print('  Kullback–Leibler divergence:',utils.kl_dist(plot_set1_intra[i], plot_sets_inter[i]))\n",
        "    print('  Overlap area:', utils.overlap_area(plot_set1_intra[i], plot_sets_inter[i]))\n",
        "    \n",
        "    print(' demo_set2')\n",
        "    print('  Kullback–Leibler divergence:',utils.kl_dist(plot_set2_intra[i], plot_sets_inter[i]))\n",
        "    print('  Overlap area:', utils.overlap_area(plot_set2_intra[i], plot_sets_inter[i]))\n",
        "    "
      ],
      "execution_count": 90,
      "outputs": [
        {
          "output_type": "stream",
          "name": "stdout",
          "text": [
            "total_used_pitch:\n",
            "------------------------\n",
            " demo_set1\n",
            "  Kullback–Leibler divergence: 0.054084494055167354\n",
            "  Overlap area: 0.32133607570692835\n",
            " demo_set2\n",
            "  Kullback–Leibler divergence: 0.08738055631882163\n",
            "  Overlap area: 0.761118395737127\n"
          ]
        }
      ]
    },
    {
      "cell_type": "code",
      "metadata": {
        "id": "o5D5iTudnmT5"
      },
      "source": [
        ""
      ],
      "execution_count": 90,
      "outputs": []
    }
  ]
}